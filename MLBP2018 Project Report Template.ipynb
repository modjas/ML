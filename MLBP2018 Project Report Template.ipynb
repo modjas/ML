{
 "cells": [
  {
   "cell_type": "markdown",
   "metadata": {},
   "source": [
    "**Machine Learning Basic Principles 2018 - Data Analysis Project Report. Group 256, Mathias Smeds and Mathias Fontell**"
   ]
  },
  {
   "cell_type": "markdown",
   "metadata": {},
   "source": [
    "# *Title* "
   ]
  },
  {
   "cell_type": "markdown",
   "metadata": {},
   "source": [
    "*Title should be concise and informative, describes the approach to solve the problem. Some good titles from previous years:*\n",
    "\n",
    "*- Comparing extreme learning machines and naive bayes’ classifier in spam detection*\n",
    "\n",
    "*- Using linear discriminant analysis in spam detection*\n",
    "\n",
    "*Some not-so-good titles:*\n",
    "\n",
    "*- Bayesian spam filtering with extras*\n",
    "\n",
    "*- Two-component classifier for spam detection*\n",
    "\n",
    "*- CS-E3210 Term Project, final report*\n",
    "\n",
    "\n"
   ]
  },
  {
   "cell_type": "markdown",
   "metadata": {},
   "source": [
    "## Abstract"
   ]
  },
  {
   "cell_type": "markdown",
   "metadata": {},
   "source": [
    "*Precise summary of the whole report, previews the contents and results. Must be a single paragraph between 100 and 200 words.*\n",
    "\n"
   ]
  },
  {
   "cell_type": "markdown",
   "metadata": {},
   "source": [
    "## 1. Introduction (SMEDS)"
   ]
  },
  {
   "cell_type": "markdown",
   "metadata": {},
   "source": [
    "*Background, problem statement, motivation, many references, description of\n",
    "contents. Introduces the reader to the topic and the broad context within which your\n",
    "research/project fits*\n",
    "\n",
    "*- What do you hope to learn from the project?*\n",
    "*- What question is being addressed?*\n",
    "*- Why is this task important? (motivation)*\n",
    "\n",
    "*Keep it short (half to 1 page).*\n",
    "\n",
    ".-.-.-.-.-.-.-.-\n",
    "\n",
    "Assigning a genre to a song is a task at which even humans might have different opinions as to what is the correct genre. Thus we can expect that teaching a computer to correctly predict a genre for a given song is no easy feat.\n",
    "\n",
    "Our task is to teach a computer to assign a genre to a song, based on data features extracted from the song. The two most important outcomes from this project are\n",
    "\n",
    "1. How well can a computer predict the genre of a song based on simple Machine Learning algorithms\n",
    "2. What preprocessing of the data is needed\n",
    "\n",
    "We have two datasets consisting of song features, with one of the datasets being labeled to specific genres. Depending on the bitrate and audio format a single song can be several tens of megabytes, with normal listening bitrate for an mp3-file requiring at least a few megabytes. This means that using all bits in the song would result in a huge dataset impractical for our purposes. Because of this we have a dataset consisting of features engineered from the song, so that one song does not take up too much storage and computational resources.\n",
    "\n",
    "The project consists of preprocessing the data and finding a training a predictor which performs well both in assigning each song a genre as well as having good confidence in that assignment.\n",
    "\n",
    "Googling \"machine learning song genre\" gives almost 8 million hits. It seems to be an interesting problem for developing ML algorithms, maybe because of it being hard to perform better than humans. Perhaps the most popular machine learning solution for music is tha Shazam-app which can come up with a song title based on a sample from a song. Even though Shazam is not centered around finding good accurate genre labels for songs, it is still close enough to this project to show that applying Machine Learning to music is relevant both for business and science purposes.\n",
    "\n"
   ]
  },
  {
   "cell_type": "markdown",
   "metadata": {},
   "source": [
    "## 2. Data analysis (FONTELL)"
   ]
  },
  {
   "cell_type": "markdown",
   "metadata": {},
   "source": [
    "Before diving headfirst into classification and any derived machine earning (pun intended), we are well advised to familiarize ourselves with the data at hand. There are several reasons for doing this. First of all, identifying significant features or redundancy helps in finding a machine learning method most suitable for the data; the difference between trends that appear linear, polynomial, clustered or something completely alien can single out certain methods from the getgo. Moreover, filtering out redundant features improves the speed and often the accuracy of the selected classifier. As such, this section is tasked with addressing the following questions:\n",
    "\n",
    "    - How are the classes distributed in the data? Is there a major representation of some classes?\n",
    "    - What are the feature ranges, and is some pattern evident in the data?\n",
    "    - Can the dimensionality of the data be reduced for improved speed and accuracy?\n",
    "\n",
    "The songs in the dataset have been preprocessed into vectors of 264 features. The features contain information about the rhytm pattern, chroma and Mel Frequency Cepstral Coefficients (MFCC). Although a prior understanding of the technical details would certainly be useful, the conversion of an audio file into the MFCCs and rhythm/chroma patters is rather technical and well beyond the scope of this project. An overview of the procedure is presented in [1]; here we will not dwelve further into the details of the features. However, the columns "
   ]
  },
  {
   "cell_type": "code",
   "execution_count": 1,
   "metadata": {},
   "outputs": [
    {
     "name": "stderr",
     "output_type": "stream",
     "text": [
      "C:\\Users\\Mathias\\Anaconda3\\lib\\site-packages\\sklearn\\ensemble\\weight_boosting.py:29: DeprecationWarning: numpy.core.umath_tests is an internal NumPy module and should not be imported. It will be removed in a future NumPy release.\n",
      "  from numpy.core.umath_tests import inner1d\n",
      "C:\\Users\\Mathias\\Anaconda3\\lib\\site-packages\\ipykernel_launcher.py:15: FutureWarning: Method .as_matrix will be removed in a future version. Use .values instead.\n",
      "  from ipykernel import kernelapp as app\n",
      "C:\\Users\\Mathias\\Anaconda3\\lib\\site-packages\\ipykernel_launcher.py:16: FutureWarning: Method .as_matrix will be removed in a future version. Use .values instead.\n",
      "  app.launch_new_instance()\n",
      "C:\\Users\\Mathias\\Anaconda3\\lib\\site-packages\\ipykernel_launcher.py:17: FutureWarning: Method .as_matrix will be removed in a future version. Use .values instead.\n"
     ]
    }
   ],
   "source": [
    "# Import libraries\n",
    "import pandas as pd\n",
    "import numpy as np\n",
    "import matplotlib.pyplot as plt\n",
    "from sklearn import linear_model\n",
    "from sklearn.svm import SVC\n",
    "from sklearn.neural_network import MLPClassifier\n",
    "from sklearn.ensemble import RandomForestClassifier\n",
    "from sklearn.decomposition import PCA\n",
    "import random\n",
    "from random import randint\n",
    "from sklearn.model_selection import train_test_split\n",
    "\n",
    "# Load the data and cleanup\n",
    "train_data = pd.read_csv(\"train_data.csv\", header=None).as_matrix()\n",
    "test_data = pd.read_csv(\"test_data.csv\", header=None).as_matrix()\n",
    "train_labels = pd.read_csv(\"train_labels.csv\", header=None).as_matrix()"
   ]
  },
  {
   "cell_type": "markdown",
   "metadata": {},
   "source": [
    "Upon closer inspection of the data we see that many columns seem to have bad data. \n",
    "For example column with index 204 has mostly ones and column with index 216 is almost all 1E+06.\n",
    "In the cell below we remove the coumns having bad data."
   ]
  },
  {
   "cell_type": "code",
   "execution_count": 4,
   "metadata": {},
   "outputs": [
    {
     "data": {
      "image/png": "[encoded data removed]",
      "text/plain": [
       "<Figure size 432x288 with 2 Axes>"
      ]
     },
     "metadata": {
      "needs_background": "light"
     },
     "output_type": "display_data"
    }
   ],
   "source": [
    "pca=PCA(n_components = 10)\n",
    "principal_components = pca.fit_transform(train_data)\n",
    "\n",
    "plot_principal_components = np.column_stack((principal_components, train_labels))\n",
    "\n",
    "plt.scatter(plot_principal_components[:, 0], plot_principal_components[:, 1],\n",
    "            c=train_labels.ravel(), edgecolor='none', alpha=0.5,\n",
    "            cmap=plt.cm.get_cmap('nipy_spectral', 10))\n",
    "plt.xlabel('component 1')\n",
    "plt.ylabel('component 2')\n",
    "plt.colorbar();\n",
    "\n"
   ]
  },
  {
   "cell_type": "code",
   "execution_count": 5,
   "metadata": {},
   "outputs": [
    {
     "name": "stdout",
     "output_type": "stream",
     "text": [
      "(4363, 264) (6544, 264) (4363, 1)\n"
     ]
    },
    {
     "data": {
      "text/plain": [
       "(array([2178.,  618.,  326.,  253.,  214.,  260.,  141.,  195.,   92.,\n",
       "          86.]),\n",
       " array([ 1. ,  1.9,  2.8,  3.7,  4.6,  5.5,  6.4,  7.3,  8.2,  9.1, 10. ]),\n",
       " <a list of 10 Patch objects>)"
      ]
     },
     "execution_count": 5,
     "metadata": {},
     "output_type": "execute_result"
    },
    {
     "data": {
      "image/png": "[encoded data removed]",
      "text/plain": [
       "<Figure size 432x288 with 1 Axes>"
      ]
     },
     "metadata": {
      "needs_background": "light"
     },
     "output_type": "display_data"
    }
   ],
   "source": [
    "#Analysddis of the input data: MATTE\n",
    "print(train_data.shape, test_data.shape, train_labels.shape)\n",
    "\n",
    "#Histogram of class distribution\n",
    "plt.hist(train_labels[:,0])\n",
    "#plt.show()\n"
   ]
  },
  {
   "cell_type": "code",
   "execution_count": 2,
   "metadata": {},
   "outputs": [
    {
     "data": {
      "text/plain": [
       "Text(0.5,1,'Validation data after split')"
      ]
     },
     "execution_count": 2,
     "metadata": {},
     "output_type": "execute_result"
    },
    {
     "data": {
      "image/png": "[encoded data removed]",
      "text/plain": [
       "<Figure size 1080x432 with 2 Axes>"
      ]
     },
     "metadata": {
      "needs_background": "light"
     },
     "output_type": "display_data"
    }
   ],
   "source": [
    "#Divide data into training data (70%) and validation data (30%)\n",
    "#normalize the data: support vector machines work better this way\n",
    "from sklearn.preprocessing import MinMaxScaler\n",
    "\n",
    "scaler = MinMaxScaler()\n",
    "\n",
    "data=scaler.fit_transform(train_data)\n",
    "\n",
    "tdata, vdata, tlabels, vlabels = train_test_split(data, train_labels.ravel(), test_size=0.3, random_state=66)\n",
    "\n",
    "def undersample_genre(features, labels, remaining, genre):\n",
    "#Input: N x D features matrix, N x 1 labels matrix, remaining percentage of rows corresponding to label genre\n",
    "#Output: (remaining*N) x D features matrix, (remaining*N) x 1 labels matrix\n",
    "#remove some of those damn pop songs randomly\n",
    "    N_data=features.shape[0]\n",
    "    N_genre=0\n",
    "    for i in range(N_data):\n",
    "        if(labels[i]==genre):\n",
    "            N_genre+=1\n",
    "            \n",
    "    to_delete=int(np.floor((1.0-remaining)*N_genre))\n",
    "    deleted=0\n",
    "    while(deleted<to_delete):\n",
    "        #pick random row in tdata\n",
    "        rand_row=randint(0, features.shape[0]-1)\n",
    "        if(labels[rand_row]==genre):\n",
    "            rand=random.uniform(0, 1)\n",
    "            if(rand>remaining):\n",
    "                #remove this row from tdata\n",
    "                features = np.delete(features, (rand_row), axis=0)\n",
    "                labels = np.delete(labels, (rand_row), axis=0)\n",
    "                deleted+=1\n",
    "    return features, labels\n",
    "\n",
    "#tdata,tlabels=undersample_genre(tdata,tlabels,0.3,1)\n",
    "#vdata,vlabels=undersample_genre(vdata,vlabels,0.3,1)\n",
    "\n",
    "fig=plt.figure(figsize=(8,6))\n",
    "fig.set_figwidth(15)\n",
    "\n",
    "plt.subplot(1,2,1)\n",
    "plt.hist(tlabels)\n",
    "plt.title('Training data after split')\n",
    "\n",
    "plt.subplot(1,2,2)\n",
    "plt.hist(vlabels)\n",
    "plt.title('Validation data after split')\n",
    "\n"
   ]
  },
  {
   "cell_type": "code",
   "execution_count": 38,
   "metadata": {
    "scrolled": true
   },
   "outputs": [],
   "source": [
    "#Analysis of the input data: MATTI\n",
    "#TODO: Counteract imbalance in data set\n",
    "\n",
    "N=data.shape[0]\n",
    "C = np.cov(np.transpose(data)) #data=normalize training data\n",
    "values, vectors = np.linalg.eig(C)\n",
    "idx = (values.real).argsort()[::-1]   \n",
    "values_sorted = (values[idx]).real\n",
    "vectors_sorted = vectors[:,idx]\n",
    "\n",
    "#test principal component analysis of data\n",
    "pca=PCA(n_components = 200)\n",
    "pca.fit(data)\n",
    "\n",
    "#TODO: NORMALIZE THE DATA FIRST!\n",
    "#traindata_PCA=pca.transform(train_data) n\n",
    "#testdata_PCA=pca.transform(test_data)\n",
    "\n",
    "tdata_PCA=pca.transform(tdata) #tdata and vdata have been normalize to between 0 and 1 in the previous cell\n",
    "vdata_PCA=pca.transform(vdata)\n",
    " "
   ]
  },
  {
   "cell_type": "code",
   "execution_count": 6,
   "metadata": {},
   "outputs": [
    {
     "data": {
      "image/png": "[encoded data removed]",
      "text/plain": [
       "<Figure size 1080x432 with 2 Axes>"
      ]
     },
     "metadata": {
      "needs_background": "light"
     },
     "output_type": "display_data"
    }
   ],
   "source": [
    "D=values_sorted.shape[0]\n",
    "compression_error=np.zeros((1,D))\n",
    "number_included=np.zeros((1,D))\n",
    "for i in range(D):\n",
    "    sum=0\n",
    "    for j in range(i+1,D):\n",
    "        sum+=values_sorted[j]\n",
    "    compression_error[0,i]=sum\n",
    "    number_included[0,i]=i+1\n",
    "  \n",
    "fig=plt.figure(figsize=(8,6))\n",
    "fig.set_figwidth(15)\n",
    "plt.subplot(1,2,1)\n",
    "plt.plot(values_sorted[:])\n",
    "plt.xlabel('number of eigenvalue')\n",
    "plt.semilogy()\n",
    "plt.ylabel('Re[eigenvalue]')\n",
    "plt.title(\"Eigenvalues of the covariance matrix\")\n",
    "\n",
    "plt.subplot(1,2,2)\n",
    "plt.plot(number_included[0,:],compression_error[0,:])\n",
    "plt.xlabel('Number of included eigenvalues')\n",
    "plt.semilogy()\n",
    "plt.ylabel('Compression error')\n",
    "plt.title(\"Compression error\")\n",
    "plt.show()"
   ]
  },
  {
   "cell_type": "markdown",
   "metadata": {},
   "source": [
    "## 3. Methods and experiments (MATTE)"
   ]
  },
  {
   "cell_type": "markdown",
   "metadata": {},
   "source": [
    "*- Explain your whole approach (you can include a block diagram showing the steps in your process).* \n",
    "\n",
    "*- What methods/algorithms, why were the methods chosen. *\n",
    "\n",
    "*- What evaluation methodology (cross CV, etc.).*\n",
    "\n"
   ]
  },
  {
   "cell_type": "code",
   "execution_count": 9,
   "metadata": {},
   "outputs": [
    {
     "name": "stderr",
     "output_type": "stream",
     "text": [
      "C:\\Users\\Mathias\\Anaconda3\\lib\\site-packages\\sklearn\\cross_validation.py:41: DeprecationWarning: This module was deprecated in version 0.18 in favor of the model_selection module into which all the refactored classes and functions are moved. Also note that the interface of the new CV iterators are different from that of this module. This module will be removed in 0.20.\n",
      "  \"This module will be removed in 0.20.\", DeprecationWarning)\n",
      "C:\\Users\\Mathias\\Anaconda3\\lib\\site-packages\\sklearn\\grid_search.py:42: DeprecationWarning: This module was deprecated in version 0.18 in favor of the model_selection module into which all the refactored classes and functions are moved. This module will be removed in 0.20.\n",
      "  DeprecationWarning)\n"
     ]
    },
    {
     "data": {
      "text/plain": [
       "[mean: 0.50172, std: 0.00487, params: {'max_depth': 2, 'n_estimators': 20},\n",
       " mean: 0.50034, std: 0.00245, params: {'max_depth': 2, 'n_estimators': 40},\n",
       " mean: 0.50057, std: 0.00340, params: {'max_depth': 2, 'n_estimators': 60},\n",
       " mean: 0.49966, std: 0.00284, params: {'max_depth': 2, 'n_estimators': 80},\n",
       " mean: 0.50034, std: 0.00437, params: {'max_depth': 2, 'n_estimators': 100},\n",
       " mean: 0.54206, std: 0.01111, params: {'max_depth': 5, 'n_estimators': 20},\n",
       " mean: 0.54641, std: 0.00837, params: {'max_depth': 5, 'n_estimators': 40},\n",
       " mean: 0.54756, std: 0.01001, params: {'max_depth': 5, 'n_estimators': 60},\n",
       " mean: 0.54825, std: 0.01137, params: {'max_depth': 5, 'n_estimators': 80},\n",
       " mean: 0.55031, std: 0.00760, params: {'max_depth': 5, 'n_estimators': 100},\n",
       " mean: 0.55191, std: 0.00986, params: {'max_depth': 7, 'n_estimators': 20},\n",
       " mean: 0.55604, std: 0.01299, params: {'max_depth': 7, 'n_estimators': 40},\n",
       " mean: 0.55879, std: 0.01270, params: {'max_depth': 7, 'n_estimators': 60},\n",
       " mean: 0.55558, std: 0.01244, params: {'max_depth': 7, 'n_estimators': 80},\n",
       " mean: 0.55581, std: 0.01362, params: {'max_depth': 7, 'n_estimators': 100},\n",
       " mean: 0.55352, std: 0.01155, params: {'max_depth': 9, 'n_estimators': 20},\n",
       " mean: 0.55787, std: 0.01103, params: {'max_depth': 9, 'n_estimators': 40},\n",
       " mean: 0.55741, std: 0.01213, params: {'max_depth': 9, 'n_estimators': 60},\n",
       " mean: 0.55741, std: 0.01118, params: {'max_depth': 9, 'n_estimators': 80},\n",
       " mean: 0.55994, std: 0.01159, params: {'max_depth': 9, 'n_estimators': 100},\n",
       " mean: 0.54710, std: 0.01316, params: {'max_depth': 11, 'n_estimators': 20},\n",
       " mean: 0.55719, std: 0.01282, params: {'max_depth': 11, 'n_estimators': 40},\n",
       " mean: 0.55604, std: 0.01249, params: {'max_depth': 11, 'n_estimators': 60},\n",
       " mean: 0.55719, std: 0.01194, params: {'max_depth': 11, 'n_estimators': 80},\n",
       " mean: 0.56452, std: 0.01455, params: {'max_depth': 11, 'n_estimators': 100},\n",
       " mean: 0.54939, std: 0.01309, params: {'max_depth': 13, 'n_estimators': 20},\n",
       " mean: 0.55237, std: 0.00970, params: {'max_depth': 13, 'n_estimators': 40},\n",
       " mean: 0.56085, std: 0.01109, params: {'max_depth': 13, 'n_estimators': 60},\n",
       " mean: 0.55581, std: 0.01022, params: {'max_depth': 13, 'n_estimators': 80},\n",
       " mean: 0.55833, std: 0.01063, params: {'max_depth': 13, 'n_estimators': 100},\n",
       " mean: 0.54435, std: 0.01470, params: {'max_depth': 15, 'n_estimators': 20},\n",
       " mean: 0.55535, std: 0.01127, params: {'max_depth': 15, 'n_estimators': 40},\n",
       " mean: 0.55489, std: 0.01198, params: {'max_depth': 15, 'n_estimators': 60},\n",
       " mean: 0.56131, std: 0.01457, params: {'max_depth': 15, 'n_estimators': 80},\n",
       " mean: 0.55764, std: 0.01020, params: {'max_depth': 15, 'n_estimators': 100}]"
      ]
     },
     "execution_count": 9,
     "metadata": {},
     "output_type": "execute_result"
    }
   ],
   "source": [
    "from sklearn.model_selection import cross_val_score\n",
    "from sklearn.metrics import classification_report, confusion_matrix\n",
    "\n",
    "#Matter, obs: traindata_PCA eller train_data är inte normaliserad, och funkar dåligt. 'data' är normaliserad train_data till [0,1]\n",
    "#Använd alltså 'data' iställe, se cell 2\n",
    "param_grid = {\n",
    "                 'n_estimators': [20, 40, 60, 80, 100],\n",
    "                 'max_depth': [2, 5, 7, 9, 11, 13, 15]\n",
    "             }\n",
    "\n",
    "\n",
    "X_train, X_test, y_train, y_test = train_test_split(traindata_PCA, train_labels.ravel(), test_size=0.33, random_state=66)\n",
    "\n",
    "# random forest model creation\n",
    "rfc = RandomForestClassifier()\n",
    "rfc.fit(X_train,y_train)\n",
    "# predictions\n",
    "rfc_predict = rfc.predict(X_test)\n",
    "\n",
    "cross_val_score(rfc, traindata_PCA, train_labels.ravel(), cv=10)\n",
    "\n",
    "from sklearn.grid_search import GridSearchCV\n",
    "\n",
    "grid_clf = GridSearchCV(rfc, param_grid, cv=10)\n",
    "grid_clf.fit(traindata_PCA, train_labels.ravel())\n",
    "grid_clf.grid_scores_"
   ]
  },
  {
   "cell_type": "code",
   "execution_count": null,
   "metadata": {},
   "outputs": [
    {
     "name": "stderr",
     "output_type": "stream",
     "text": [
      "C:\\Users\\Mathias\\Anaconda3\\lib\\site-packages\\sklearn\\cross_validation.py:41: DeprecationWarning: This module was deprecated in version 0.18 in favor of the model_selection module into which all the refactored classes and functions are moved. Also note that the interface of the new CV iterators are different from that of this module. This module will be removed in 0.20.\n",
      "  \"This module will be removed in 0.20.\", DeprecationWarning)\n",
      "C:\\Users\\Mathias\\Anaconda3\\lib\\site-packages\\sklearn\\grid_search.py:42: DeprecationWarning: This module was deprecated in version 0.18 in favor of the model_selection module into which all the refactored classes and functions are moved. This module will be removed in 0.20.\n",
      "  DeprecationWarning)\n"
     ]
    }
   ],
   "source": [
    "#Matti's cross validation test\n",
    "#this doesnt work\n",
    "from sklearn.metrics import accuracy_score\n",
    "from sklearn import svm, grid_search, datasets\n",
    "parameters = {'kernel':('linear', 'rbf','poly'), 'degree':[1, 2,3,4]}\n",
    "svr = svm.SVC(max_iter=10000)\n",
    "clf = grid_search.GridSearchCV(svr, parameters)\n",
    "clf.fit(data, train_labels.ravel())\n",
    "clf.best_score_\n",
    "\n",
    "#from sklearn import svm\n",
    "#print(tdata.shape)\n",
    "\n",
    "'''\n",
    "#My best performance: clf = svm.SVC(kernel='poly',degree=3,gamma=0.1,max_iter=100000)\n",
    "w={1:3, 2:4, 3:5, 4:5, 5:5, 6:5, 7:5, 8:5, 9:5, 10:5}\n",
    "gammas=np.linspace(0.1, 1.0, num=1)\n",
    "for j in range(len(gammas)):\n",
    "    g=gammas[j]\n",
    "    clf = svm.SVC(kernel='poly',degree=3,gamma=g,max_iter=100000)\n",
    "    clf.fit(tdata, tlabels.ravel())\n",
    "    labels_pred=clf.predict(vdata)\n",
    "    acc = accuracy_score(vlabels.ravel(), labels_pred.ravel())\n",
    "    print(g,acc)\n",
    "'''\n",
    "\n",
    "\n"
   ]
  },
  {
   "cell_type": "code",
   "execution_count": 25,
   "metadata": {},
   "outputs": [
    {
     "name": "stdout",
     "output_type": "stream",
     "text": [
      "[0.76394858 0.46843531 0.12161903 0.06402273 0.04634457 0.03145128\n",
      " 0.02801016 0.02025193 0.01936487 0.01664958]\n",
      "[ 3.58857806e-05  3.46824472e-05  3.30976375e-05  3.19090511e-05\n",
      "  3.01583150e-05  2.69840906e-05  2.29438184e-05  1.46351876e-05\n",
      "  1.10981295e-05  6.23466415e-06  2.81908471e-06  1.32990008e-20\n",
      " -1.21484117e-20 -1.21484117e-20]\n",
      "Random Forest score:  0.5273894109557644\n"
     ]
    }
   ],
   "source": [
    "#Choosing how much of the PCA data to include.\n",
    "#We see that there is a significant drop in the computation error and eigenvalues somewhere near the 175th eigenvalue\n",
    "\n",
    "print(values_sorted[170:180])\n",
    "#From this we see that a reasonable cutoff point is at the 175th eigenvalue\n",
    "\n",
    "print(values_sorted[250:])\n",
    "\n",
    "# Trials with ML algorithms\n",
    "\n",
    "\n",
    "\n",
    "#TODO\n",
    "#Polynomial regression\n",
    "\n",
    "#Mattes algoritmer\n",
    "#Try 1, LinearRegression\n",
    "#classifier_1 = linear_model.LinearRegression().fit(traindata_PCA, train_labels)\n",
    "#score1 = classifier_1.score(traindata_PCA, train_labels)\n",
    "#classifier_1.predict(testdata_PCA)\n",
    "\n",
    "#Try 2, SVM\n",
    "#classifier_2 = SVC(gamma='auto')\n",
    "#classifier_2.fit(train_data, train_labels.values.ravel())\n",
    "#classifier_2.score(train_data, train_labels.values.ravel())\n",
    "\n",
    "#Try 3, Deep learning\n",
    "#classifier_3 = MLPClassifier(solver='lbfgs', alpha=1e-2, hidden_layer_sizes=(5, 2), random_state=1)\n",
    "#classifier_3.fit(traindata_PCA, train_labels)\n",
    "#score3 = classifier_3.score(traindata_PCA, train_labels)\n",
    "\n",
    "#Try 4, Bayesian Ridge regression\n",
    "#classifier_4 = linear_model.BayesianRidge().fit(traindata_PCA, train_labels)\n",
    "#score4 = classifier_4.score(traindata_PCA, train_labels)\n",
    "\n",
    "#Try 5, Random Forest\n",
    "classifier_5 = RandomForestClassifier(n_estimators=100, max_depth = 10)\n",
    "classifier_5.fit(traindata_PCA, train_labels.ravel())\n",
    "score5 = classifier_5.score(traindata_PCA, train_labels.ravel())\n",
    "classifier_5_output = classifier_5.predict(testdata_PCA)\n",
    "classifier_5_output_logloss = classifier_5.predict_proba(testdata_PCA)\n",
    "\n",
    "\n",
    "#Output\n",
    "#print(\"Linear regression score: \", score1)\n",
    "#print(\"Deep learning score: \", score3)\n",
    "#print(\"Bayesian Ridge Regression score: \", score4)\n",
    "print(\"Random Forest score: \", score5)\n"
   ]
  },
  {
   "cell_type": "code",
   "execution_count": null,
   "metadata": {},
   "outputs": [],
   "source": [
    "#Mattis algoritmer\n",
    "#Try the same as above, but for the reduced data\n",
    "\n",
    "classifier_5_reduced = RandomForestClassifier(n_estimators=10, max_depth = 10).fit(traindata_PCA, train_labels.values.ravel())\n",
    "score5_reduced = classifier_5_reduced.score(traindata_PCA, train_labels.values.ravel())\n",
    "classifier_5_reduced_output = classifier_5_reduced.predict(testdata_PCA)\n",
    "\n",
    "\n",
    "#Output\n",
    "print(\"Random Forest score with PCA compression, boom: \", score5_reduced)\n",
    "\n"
   ]
  },
  {
   "cell_type": "markdown",
   "metadata": {},
   "source": [
    "## 4. Results (Output: Smeds, Confusion matrix: Fontell)"
   ]
  },
  {
   "cell_type": "markdown",
   "metadata": {},
   "source": [
    "*Summarize the results of the experiments without discussing their implications.*\n",
    "\n",
    "*- Include both performance measures (accuracy and LogLoss).*\n",
    "\n",
    "*- How does it perform on kaggle compared to the train data.*\n",
    "\n",
    "*- Include a confusion matrix.*\n",
    "\n"
   ]
  },
  {
   "cell_type": "code",
   "execution_count": null,
   "metadata": {},
   "outputs": [],
   "source": [
    "#Confusion matrix ...\n",
    "\n",
    "#Output for Accuracy competition\n",
    "output_csv = pd.DataFrame({'Sample_label': classifier_5_output})\n",
    "output_csv.index += 1\n",
    "output_csv.index.names = ['Sample_id']\n",
    "\n",
    "#Output for Logloss competition\n",
    "output_csv2 = pd.DataFrame(classifier_5_output_logloss, columns=['Class_1', 'Class_2', 'Class_3', 'Class_4', 'Class_5','Class_6','Class_7','Class_8','Class_9','Class_10',])\n",
    "output_csv2.index += 1\n",
    "output_csv2.index.names = ['Sample_id']\n",
    "\n",
    "#output_csv.rename({1: \"Sample_id\", 2: \"Sample_label\"}, index=)\n",
    "output_csv.to_csv('upload_to_kaggle_accuracy.csv')\n",
    "output_csv2.to_csv('upload_to_kaggle_logloss.csv')\n"
   ]
  },
  {
   "cell_type": "markdown",
   "metadata": {},
   "source": [
    "## 5. Discussion/Conclusions"
   ]
  },
  {
   "cell_type": "markdown",
   "metadata": {},
   "source": [
    "*Interpret and explain your results *\n",
    "\n",
    "*- Discuss the relevance of the performance measures (accuracy and LogLoss) for\n",
    "imbalanced multiclass datasets. *\n",
    "\n",
    "*- How the results relate to the literature. *\n",
    "\n",
    "*- Suggestions for future research/improvement. *\n",
    "\n",
    "*- Did the study answer your questions? *\n",
    "\n"
   ]
  },
  {
   "cell_type": "markdown",
   "metadata": {},
   "source": [
    "## 6. References"
   ]
  },
  {
   "cell_type": "markdown",
   "metadata": {},
   "source": [
    "[1] N.M. Patil, M.U. Nemande: \"Music Genre Classification Using MFCC, K-NN and SVM Classifier\". International Journal of Computer Engineering In Research Trends, Vol. 4, Issue 2, pp 43-47, 2017."
   ]
  },
  {
   "cell_type": "markdown",
   "metadata": {},
   "source": [
    "## Appendix\n",
    "*Any additional material needed to complete the report can be included here. For example, if you want to keep  additional source code, additional images or plots, mathematical derivations, etc. The content should be relevant to the report and should help explain or visualize something mentioned earlier. **You can remove the whole Appendix section if there is no need for it.** *"
   ]
  },
  {
   "cell_type": "code",
   "execution_count": null,
   "metadata": {},
   "outputs": [],
   "source": []
  }
 ],
 "metadata": {
  "kernelspec": {
   "display_name": "Python 3",
   "language": "python",
   "name": "python3"
  },
  "language_info": {
   "codemirror_mode": {
    "name": "ipython",
    "version": 3
   },
   "file_extension": ".py",
   "mimetype": "text/x-python",
   "name": "python",
   "nbconvert_exporter": "python",
   "pygments_lexer": "ipython3",
   "version": "3.7.0"
  }
 },
 "nbformat": 4,
 "nbformat_minor": 2
}
