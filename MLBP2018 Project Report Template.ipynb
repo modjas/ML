{
 "cells": [
  {
   "cell_type": "markdown",
   "metadata": {},
   "source": [
    "**Machine Learning Basic Principles 2018 - Data Analysis Project Report. Group 256, Mathias Smeds and Mathias Fontell**"
   ]
  },
  {
   "cell_type": "markdown",
   "metadata": {},
   "source": [
    "# *Title* "
   ]
  },
  {
   "cell_type": "markdown",
   "metadata": {},
   "source": [
    "*Title should be concise and informative, describes the approach to solve the problem. Some good titles from previous years:*\n",
    "\n",
    "*- Comparing extreme learning machines and naive bayes’ classifier in spam detection*\n",
    "\n",
    "*- Using linear discriminant analysis in spam detection*\n",
    "\n",
    "*Some not-so-good titles:*\n",
    "\n",
    "*- Bayesian spam filtering with extras*\n",
    "\n",
    "*- Two-component classifier for spam detection*\n",
    "\n",
    "*- CS-E3210 Term Project, final report*\n",
    "\n",
    "\n"
   ]
  },
  {
   "cell_type": "markdown",
   "metadata": {},
   "source": [
    "## Abstract"
   ]
  },
  {
   "cell_type": "markdown",
   "metadata": {},
   "source": [
    "*Precise summary of the whole report, previews the contents and results. Must be a single paragraph between 100 and 200 words.*\n",
    "\n"
   ]
  },
  {
   "cell_type": "markdown",
   "metadata": {},
   "source": [
    "## 1. Introduction (SMEDS)"
   ]
  },
  {
   "cell_type": "markdown",
   "metadata": {},
   "source": [
    "*Background, problem statement, motivation, many references, description of\n",
    "contents. Introduces the reader to the topic and the broad context within which your\n",
    "research/project fits*\n",
    "\n",
    "*- What do you hope to learn from the project?*\n",
    "*- What question is being addressed?*\n",
    "*- Why is this task important? (motivation)*\n",
    "\n",
    "*Keep it short (half to 1 page).*\n",
    "\n",
    ".-.-.-.-.-.-.-.-\n",
    "\n",
    "Assigning a genre to a song is a task at which even humans might have different opinions as to what is the correct genre. Thus we can expect that teaching a computer to correctly predict a genre for a given song is no easy feat.\n",
    "\n",
    "Our task is to teach a computer to assign a genre to a song, based on data features extracted from the song. The two most important outcomes from this project are\n",
    "\n",
    "1. How well can a computer predict the genre of a song based on simple Machine Learning algorithms\n",
    "2. What preprocessing of the data is needed\n",
    "\n",
    "We have two datasets consisting of song features, with one of the datasets being labeled to specific genres. Depending on the bitrate and audio format a single song can be several tens of megabytes, with normal listening bitrate for an mp3-file requiring at least a few megabytes. This means that using all bits in the song would result in a huge dataset impractical for our purposes. Because of this we have a dataset consisting of features engineered from the song, so that one song does not take up too much storage and computational resources.\n",
    "\n",
    "The project consists of preprocessing the data and finding a training a predictor which performs well both in assigning each song a genre as well as having good confidence in that assignment.\n",
    "\n",
    "Googling \"machine learning song genre\" gives almost 8 million hits. It seems to be an interesting problem for developing ML algorithms, maybe because of it being hard to perform better than humans. Perhaps the most popular machine learning solution for music is tha Shazam-app which can come up with a song title based on a sample from a song. Even though Shazam is not centered around finding good accurate genre labels for songs, it is still close enough to this project to show that applying Machine Learning to music is relevant both for business and science purposes.\n",
    "\n"
   ]
  },
  {
   "cell_type": "markdown",
   "metadata": {},
   "source": [
    "## 2. Data analysis (FONTELL)"
   ]
  },
  {
   "cell_type": "markdown",
   "metadata": {},
   "source": [
    "Before diving headfirst into classification and any derived machine earning (pun intended), we are well advised to familiarize ourselves with the data at hand. There are several reasons for doing this. First of all, identifying significant features or redundancy helps in finding a machine learning method most suitable for the data; the difference between trends that appear linear, polynomial, clustered or something completely alien can single out certain methods from the getgo. Moreover, filtering out redundant features improves the speed and often the accuracy of the selected classifier. As such, this section is tasked with addressing the following questions:\n",
    "\n",
    "    - How are the classes distributed in the data? Is there a major representation of some classes?\n",
    "    - What are the feature ranges, and is some pattern evident in the data?\n",
    "    - Can the dimensionality of the data be reduced for improved speed and accuracy?\n",
    "\n",
    "The songs in the dataset have been preprocessed into vectors of 264 features. The features contain information about the rhytm pattern, chroma and Mel Frequency Cepstral Coefficients (MFCC). Although a prior understanding of the technical details would certainly be useful, the conversion of an audio file into the MFCCs and rhythm/chroma patters is rather technical and well beyond the scope of this project. An overview of the procedure is presented in [1]; here we will not dwelve further into the details of the features. First, we start with investigating the class distribution.\n",
    "\n",
    "Run the cell below to import the data an plot a histogram of the class distribution."
   ]
  },
  {
   "cell_type": "code",
   "execution_count": 1,
   "metadata": {},
   "outputs": [
    {
     "name": "stderr",
     "output_type": "stream",
     "text": [
      "C:\\Users\\Mathias\\Anaconda3\\lib\\site-packages\\sklearn\\ensemble\\weight_boosting.py:29: DeprecationWarning: numpy.core.umath_tests is an internal NumPy module and should not be imported. It will be removed in a future NumPy release.\n",
      "  from numpy.core.umath_tests import inner1d\n",
      "C:\\Users\\Mathias\\Anaconda3\\lib\\site-packages\\ipykernel_launcher.py:15: FutureWarning: Method .as_matrix will be removed in a future version. Use .values instead.\n",
      "  from ipykernel import kernelapp as app\n"
     ]
    },
    {
     "name": "stdout",
     "output_type": "stream",
     "text": [
      "(4363, 264) (6544, 264) (4363, 1)\n"
     ]
    },
    {
     "name": "stderr",
     "output_type": "stream",
     "text": [
      "C:\\Users\\Mathias\\Anaconda3\\lib\\site-packages\\ipykernel_launcher.py:16: FutureWarning: Method .as_matrix will be removed in a future version. Use .values instead.\n",
      "  app.launch_new_instance()\n",
      "C:\\Users\\Mathias\\Anaconda3\\lib\\site-packages\\ipykernel_launcher.py:17: FutureWarning: Method .as_matrix will be removed in a future version. Use .values instead.\n"
     ]
    },
    {
     "data": {
      "text/plain": [
       "Text(0.5,1,'Figure 1: Histogram of class distribution')"
      ]
     },
     "execution_count": 1,
     "metadata": {},
     "output_type": "execute_result"
    }
   ],
   "source": [
    "# Import libraries\n",
    "import pandas as pd\n",
    "import numpy as np\n",
    "import matplotlib.pyplot as plt\n",
    "from sklearn import linear_model\n",
    "from sklearn.svm import SVC\n",
    "from sklearn.neural_network import MLPClassifier\n",
    "from sklearn.ensemble import RandomForestClassifier\n",
    "from sklearn.decomposition import PCA\n",
    "import random\n",
    "from random import randint\n",
    "from sklearn.model_selection import train_test_split\n",
    "\n",
    "# Load the data and cleanup\n",
    "train_data = pd.read_csv(\"train_data.csv\", header=None).as_matrix()\n",
    "test_data = pd.read_csv(\"test_data.csv\", header=None).as_matrix()\n",
    "train_labels = pd.read_csv(\"train_labels.csv\", header=None).as_matrix()\n",
    "\n",
    "print(train_data.shape, test_data.shape, train_labels.shape)\n",
    "#Histogram of class distribution\n",
    "fig=plt.figure(figsize=(8,6))\n",
    "plt.hist(train_labels[:,0])\n",
    "plt.xlabel('Label')\n",
    "plt.ylabel('Count')\n",
    "plt.title('Figure 1: Histogram of class distribution')\n",
    "#plt.show()"
   ]
  },
  {
   "cell_type": "markdown",
   "metadata": {},
   "source": [
    "The histogram figure 1 shows that of the circa 4300 songs in the training dataset, almost 2000 represent label 1 i.e. pop. This appears to be a textbook example of an imbalanced dataset for classification; of the training labels, a disproportionate amount represent some label while some labels are wildly underrepresented. In the cells below, we present a function for undersampling a known genre by random selection to combat the imbalance. However, we will found out that this form of undersampling is not helpful - in fact, pop songs are so ubiquitous in any dataset we are likely to encounter, that we'd be well off trying to train our machine to at least classify pop songs correctly.\n",
    "\n",
    "Then to the actual features. While the technical details of the features are rather complicated, it is prudent to at least investigate the feature range. In the cell below, we present scatter plots of a few selected column to better illuminate the data at hand. Run it to see what unfolds!"
   ]
  },
  {
   "cell_type": "code",
   "execution_count": 73,
   "metadata": {},
   "outputs": [
    {
     "data": {
      "text/plain": [
       "Text(0,0.5,'Label')"
      ]
     },
     "execution_count": 73,
     "metadata": {},
     "output_type": "execute_result"
    },
    {
     "data": {
      "image/png": "[encoded data removed]",
      "text/plain": [
       "<matplotlib.figure.Figure at 0x1a0bfc2be0>"
      ]
     },
     "metadata": {},
     "output_type": "display_data"
    }
   ],
   "source": [
    "fig=plt.figure(figsize=(8,6))\n",
    "fig.set_figwidth(20)\n",
    "\n",
    "plt.subplot(1,3,1)\n",
    "plt.scatter(train_data[:,0],train_labels.ravel())\n",
    "plt.title('Column 0')\n",
    "plt.xlabel('Feature value')\n",
    "plt.ylabel('Label')\n",
    "\n",
    "plt.subplot(1,3,2)\n",
    "plt.scatter(train_data[:,204],train_labels.ravel())\n",
    "plt.title('Column 204')\n",
    "plt.xlabel('Feature value')\n",
    "plt.ylabel('Label')\n",
    "\n",
    "plt.subplot(1,3,3)\n",
    "plt.scatter(train_data[:,216],train_labels.ravel())\n",
    "plt.title('Column 204')\n",
    "plt.xlabel('Feature value')\n",
    "plt.ylabel('Label')"
   ]
  },
  {
   "cell_type": "markdown",
   "metadata": {},
   "source": [
    "Upon closer inspection of the data we see that many columns seem to have bad data. \n",
    "For example column with index 204 has mostly ones and column with index 216 is almost all 1E+06.\n",
    "In the cell below we remove the coumns having bad data."
   ]
  },
  {
   "cell_type": "code",
   "execution_count": 2,
   "metadata": {},
   "outputs": [
    {
     "data": {
      "text/plain": [
       "Text(0.5,1,'Validation data after split')"
      ]
     },
     "execution_count": 2,
     "metadata": {},
     "output_type": "execute_result"
    },
    {
     "data": {
      "image/png": "[encoded data removed]",
      "text/plain": [
       "<Figure size 1080x432 with 2 Axes>"
      ]
     },
     "metadata": {
      "needs_background": "light"
     },
     "output_type": "display_data"
    }
   ],
   "source": [
    "#Divide data into training data (70%) and validation data (30%)\n",
    "#normalize the data: support vector machines work better this way\n",
    "#from sklearn.preprocessing import MinMaxScaler\n",
    "\n",
    "#scaler = MinMaxScaler()\n",
    "\n",
    "#data=scaler.fit_transform(train_data)\n",
    "\n",
    "def my_minmaxscaler(input_data):\n",
    "    scaled_data=input_data\n",
    "    for j in range(input_data.shape[1]):\n",
    "        col=input_data[:,j]\n",
    "        col_min=np.min(col)\n",
    "        col_max=np.max(col)\n",
    "    if(col_min==col_max):\n",
    "        for i in range(input_data.shape[0]):\n",
    "            scaled_data[i,j]=1.0\n",
    "    else:\n",
    "        for i in range(scaled_data.shape[0]):\n",
    "            scaled_data[i,j]=(scaled_data[i,j]-col_min)/(col_max-col_min)\n",
    "    return scaled_data\n",
    "\n",
    "data=my_minmaxscaler(train_data)\n",
    "test_norm=my_minmaxscaler(test_data)\n",
    "\n",
    "tdata, vdata, tlabels, vlabels = train_test_split(data, train_labels.ravel(), test_size=0.3, random_state=66)\n",
    "\n",
    "def undersample_genre(features, labels, remaining, genre):\n",
    "#Input: N x D features matrix, N x 1 labels matrix, remaining percentage of rows corresponding to label genre\n",
    "#Output: (remaining*N) x D features matrix, (remaining*N) x 1 labels matrix\n",
    "#remove some of those damn pop songs randomly\n",
    "    N_data=features.shape[0]\n",
    "    N_genre=0\n",
    "    for i in range(N_data):\n",
    "        if(labels[i]==genre):\n",
    "            N_genre+=1\n",
    "            \n",
    "    to_delete=int(np.floor((1.0-remaining)*N_genre))\n",
    "    deleted=0\n",
    "    while(deleted<to_delete):\n",
    "        #pick random row in tdata\n",
    "        rand_row=randint(0, features.shape[0]-1)\n",
    "        if(labels[rand_row]==genre):\n",
    "            rand=random.uniform(0, 1)\n",
    "            if(rand>remaining):\n",
    "                #remove this row from tdata\n",
    "                features = np.delete(features, (rand_row), axis=0)\n",
    "                labels = np.delete(labels, (rand_row), axis=0)\n",
    "                deleted+=1\n",
    "    return features, labels\n",
    "\n",
    "#tdata,tlabels=undersample_genre(tdata,tlabels,0.3,1)\n",
    "#vdata,vlabels=undersample_genre(vdata,vlabels,0.3,1)\n",
    "\n",
    "fig=plt.figure(figsize=(8,6))\n",
    "fig.set_figwidth(15)\n",
    "\n",
    "plt.subplot(1,2,1)\n",
    "plt.hist(tlabels)\n",
    "plt.title('Training data after split')\n",
    "\n",
    "plt.subplot(1,2,2)\n",
    "plt.hist(vlabels)\n",
    "plt.title('Validation data after split')\n",
    "\n"
   ]
  },
  {
   "cell_type": "code",
   "execution_count": 3,
   "metadata": {
    "scrolled": true
   },
   "outputs": [
    {
     "name": "stderr",
     "output_type": "stream",
     "text": [
      "C:\\Users\\Mathias\\Anaconda3\\lib\\site-packages\\sklearn\\discriminant_analysis.py:388: UserWarning: Variables are collinear.\n",
      "  warnings.warn(\"Variables are collinear.\")\n"
     ]
    },
    {
     "name": "stdout",
     "output_type": "stream",
     "text": [
      "(6544, 9)\n"
     ]
    },
    {
     "data": {
      "image/png": "[encoded data removed]",
      "text/plain": [
       "<Figure size 432x288 with 2 Axes>"
      ]
     },
     "metadata": {
      "needs_background": "light"
     },
     "output_type": "display_data"
    }
   ],
   "source": [
    "#Analysis of the input data: MATTI\n",
    "#TODO: Counteract imbalance in data set\n",
    "\n",
    "N=data.shape[0]\n",
    "C = np.cov(np.transpose(data)) #data=normalize training data\n",
    "values, vectors = np.linalg.eig(C)\n",
    "idx = (values.real).argsort()[::-1]   \n",
    "values_sorted = (values[idx]).real\n",
    "vectors_sorted = vectors[:,idx]\n",
    "\n",
    "#test principal component analysis of data\n",
    "pca=PCA(n_components = 200)\n",
    "pca.fit(data)\n",
    "\n",
    "#TODO: NORMALIZE THE DATA FIRST!\n",
    "#traindata_PCA=pca.transform(train_data) n\n",
    "#testdata_PCA=pca.transform(test_data)\n",
    "\n",
    "data_PCA=pca.transform(data)\n",
    "tdata_PCA=pca.transform(tdata) #tdata and vdata have been normalize to between 0 and 1 in the previous cell\n",
    "vdata_PCA=pca.transform(vdata)\n",
    "\n",
    "plt.scatter(data_PCA[:, 0], data_PCA[:, 1],\n",
    "            c=train_labels.ravel(), edgecolor='none', alpha=0.5,\n",
    "            cmap=plt.cm.get_cmap('nipy_spectral', 10))\n",
    "plt.xlabel('component 1')\n",
    "plt.ylabel('component 2')\n",
    "plt.colorbar();\n",
    "\n",
    "from sklearn.discriminant_analysis import LinearDiscriminantAnalysis as LDA\n",
    "lda = LDA(n_components=10)\n",
    "lda.fit(data,train_labels.ravel())\n",
    "tdata_lda=lda.transform(tdata)\n",
    "vdata_lda=lda.transform(vdata)\n",
    "\n",
    "test_lda=lda.transform(test_norm)\n",
    "print(test_lda.shape)\n",
    " "
   ]
  },
  {
   "cell_type": "code",
   "execution_count": 6,
   "metadata": {},
   "outputs": [
    {
     "data": {
      "image/png": "[encoded data removed]",
      "text/plain": [
       "<Figure size 1080x432 with 2 Axes>"
      ]
     },
     "metadata": {
      "needs_background": "light"
     },
     "output_type": "display_data"
    }
   ],
   "source": [
    "D=values_sorted.shape[0]\n",
    "compression_error=np.zeros((1,D))\n",
    "number_included=np.zeros((1,D))\n",
    "for i in range(D):\n",
    "    sum=0\n",
    "    for j in range(i+1,D):\n",
    "        sum+=values_sorted[j]\n",
    "    compression_error[0,i]=sum\n",
    "    number_included[0,i]=i+1\n",
    "  \n",
    "fig=plt.figure(figsize=(8,6))\n",
    "fig.set_figwidth(15)\n",
    "plt.subplot(1,2,1)\n",
    "plt.plot(values_sorted[:])\n",
    "plt.xlabel('number of eigenvalue')\n",
    "plt.semilogy()\n",
    "plt.ylabel('Re[eigenvalue]')\n",
    "plt.title(\"Eigenvalues of the covariance matrix\")\n",
    "\n",
    "plt.subplot(1,2,2)\n",
    "plt.plot(number_included[0,:],compression_error[0,:])\n",
    "plt.xlabel('Number of included eigenvalues')\n",
    "plt.semilogy()\n",
    "plt.ylabel('Compression error')\n",
    "plt.title(\"Compression error\")\n",
    "plt.show()"
   ]
  },
  {
   "cell_type": "markdown",
   "metadata": {},
   "source": [
    "## 3. Methods and experiments (MATTE)"
   ]
  },
  {
   "cell_type": "markdown",
   "metadata": {},
   "source": [
    "*- Explain your whole approach (you can include a block diagram showing the steps in your process).* \n",
    "\n",
    "*- What methods/algorithms, why were the methods chosen. *\n",
    "\n",
    "*- What evaluation methodology (cross CV, etc.).*\n",
    "\n"
   ]
  },
  {
   "cell_type": "code",
   "execution_count": 75,
   "metadata": {},
   "outputs": [
    {
     "name": "stderr",
     "output_type": "stream",
     "text": [
      "/Users/mathias/anaconda3/lib/python3.6/site-packages/ipykernel_launcher.py:15: DataConversionWarning: A column-vector y was passed when a 1d array was expected. Please change the shape of y to (n_samples,), for example using ravel().\n",
      "  from ipykernel import kernelapp as app\n"
     ]
    },
    {
     "data": {
      "text/plain": [
       "[mean: 0.50149, std: 0.00474, params: {'max_depth': 2, 'n_estimators': 20},\n",
       " mean: 0.49989, std: 0.00415, params: {'max_depth': 2, 'n_estimators': 40},\n",
       " mean: 0.50080, std: 0.00379, params: {'max_depth': 2, 'n_estimators': 60},\n",
       " mean: 0.49943, std: 0.00325, params: {'max_depth': 2, 'n_estimators': 80},\n",
       " mean: 0.49966, std: 0.00335, params: {'max_depth': 2, 'n_estimators': 100},\n",
       " mean: 0.54779, std: 0.00850, params: {'max_depth': 5, 'n_estimators': 20},\n",
       " mean: 0.54595, std: 0.00912, params: {'max_depth': 5, 'n_estimators': 40},\n",
       " mean: 0.55077, std: 0.00870, params: {'max_depth': 5, 'n_estimators': 60},\n",
       " mean: 0.54848, std: 0.00672, params: {'max_depth': 5, 'n_estimators': 80},\n",
       " mean: 0.54871, std: 0.00980, params: {'max_depth': 5, 'n_estimators': 100},\n",
       " mean: 0.55031, std: 0.01021, params: {'max_depth': 7, 'n_estimators': 20},\n",
       " mean: 0.55283, std: 0.01230, params: {'max_depth': 7, 'n_estimators': 40},\n",
       " mean: 0.55398, std: 0.01112, params: {'max_depth': 7, 'n_estimators': 60},\n",
       " mean: 0.55696, std: 0.01192, params: {'max_depth': 7, 'n_estimators': 80},\n",
       " mean: 0.55581, std: 0.01350, params: {'max_depth': 7, 'n_estimators': 100},\n",
       " mean: 0.55375, std: 0.01159, params: {'max_depth': 9, 'n_estimators': 20},\n",
       " mean: 0.55627, std: 0.01226, params: {'max_depth': 9, 'n_estimators': 40},\n",
       " mean: 0.55764, std: 0.01093, params: {'max_depth': 9, 'n_estimators': 60},\n",
       " mean: 0.55833, std: 0.00976, params: {'max_depth': 9, 'n_estimators': 80},\n",
       " mean: 0.56062, std: 0.01241, params: {'max_depth': 9, 'n_estimators': 100},\n",
       " mean: 0.54733, std: 0.01120, params: {'max_depth': 11, 'n_estimators': 20},\n",
       " mean: 0.55512, std: 0.01341, params: {'max_depth': 11, 'n_estimators': 40},\n",
       " mean: 0.55329, std: 0.01328, params: {'max_depth': 11, 'n_estimators': 60},\n",
       " mean: 0.55994, std: 0.01045, params: {'max_depth': 11, 'n_estimators': 80},\n",
       " mean: 0.55879, std: 0.01139, params: {'max_depth': 11, 'n_estimators': 100},\n",
       " mean: 0.54916, std: 0.01010, params: {'max_depth': 13, 'n_estimators': 20},\n",
       " mean: 0.55489, std: 0.00977, params: {'max_depth': 13, 'n_estimators': 40},\n",
       " mean: 0.55833, std: 0.01485, params: {'max_depth': 13, 'n_estimators': 60},\n",
       " mean: 0.55856, std: 0.01267, params: {'max_depth': 13, 'n_estimators': 80},\n",
       " mean: 0.56108, std: 0.01517, params: {'max_depth': 13, 'n_estimators': 100},\n",
       " mean: 0.54252, std: 0.00844, params: {'max_depth': 15, 'n_estimators': 20},\n",
       " mean: 0.55444, std: 0.01641, params: {'max_depth': 15, 'n_estimators': 40},\n",
       " mean: 0.55168, std: 0.01380, params: {'max_depth': 15, 'n_estimators': 60},\n",
       " mean: 0.55329, std: 0.01557, params: {'max_depth': 15, 'n_estimators': 80},\n",
       " mean: 0.54893, std: 0.01112, params: {'max_depth': 15, 'n_estimators': 100}]"
      ]
     },
     "execution_count": 75,
     "metadata": {},
     "output_type": "execute_result"
    }
   ],
   "source": [
    "from sklearn.model_selection import cross_val_score\n",
    "from sklearn.metrics import classification_report, confusion_matrix\n",
    "\n",
    "#Matter, obs: traindata_PCA eller train_data är inte normaliserad, och funkar dåligt. 'data' är normaliserad train_data till [0,1]\n",
    "#Använd alltså 'data' iställe, se cell 2\n",
    "param_grid = {\n",
    "                 'n_estimators': [20, 40, 60, 80, 100],\n",
    "                 'max_depth': [2, 5, 7, 9, 11, 13, 15]\n",
    "             }\n",
    "\n",
    "\n",
    "\n",
    "# random forest model creation\n",
    "rfc = RandomForestClassifier()\n",
    "rfc.fit(data,train_labels)\n",
    "# predictions\n",
    "#rfc_predict = rfc.predict() TODO add processed test data\n",
    "\n",
    "cross_val_score(rfc, data, train_labels.ravel(), cv=10)\n",
    "\n",
    "from sklearn.grid_search import GridSearchCV\n",
    "\n",
    "grid_clf = GridSearchCV(rfc, param_grid, cv=10)\n",
    "grid_clf.fit(traindata_PCA, train_labels.ravel())\n",
    "grid_clf.grid_scores_"
   ]
  },
  {
   "cell_type": "code",
   "execution_count": 4,
   "metadata": {},
   "outputs": [
    {
     "name": "stdout",
     "output_type": "stream",
     "text": [
      "(3054, 9)\n",
      "0.01 0.5683728036669213\n",
      "0.020000000000000004 0.6608097784568373\n",
      "0.030000000000000006 0.7028265851795263\n",
      "0.04000000000000001 0.7104660045836516\n",
      "0.05000000000000001 0.7097020626432391\n",
      "0.06000000000000001 0.7020626432391138\n",
      "0.07 0.7020626432391138\n"
     ]
    },
    {
     "name": "stderr",
     "output_type": "stream",
     "text": [
      "C:\\Users\\Mathias\\Anaconda3\\lib\\site-packages\\sklearn\\svm\\base.py:218: ConvergenceWarning: Solver terminated early (max_iter=10000).  Consider pre-processing your data with StandardScaler or MinMaxScaler.\n",
      "  % self.max_iter, ConvergenceWarning)\n"
     ]
    },
    {
     "name": "stdout",
     "output_type": "stream",
     "text": [
      "0.08 0.6997708174178763\n",
      "0.09000000000000001 0.6913674560733384\n",
      "0.1 0.6967150496562261\n"
     ]
    }
   ],
   "source": [
    "#Matti's cross validation test\n",
    "from sklearn.metrics import accuracy_score\n",
    "from sklearn import svm\n",
    "\n",
    "from sklearn import svm\n",
    "print(tdata_lda.shape)\n",
    "\n",
    "\n",
    "w={1:3, 2:4, 3:5, 4:5, 5:5, 6:5, 7:5, 8:5, 9:5, 10:5}\n",
    "gammas=np.linspace(0.01, 0.1, num=10)\n",
    "for j in range(len(gammas)):\n",
    "    g=gammas[j]\n",
    "    clf = svm.SVC(kernel='poly',degree=3,class_weight=w,gamma=g,max_iter=10000)\n",
    "    clf.fit(tdata_lda, tlabels.ravel())\n",
    "    labels_pred=clf.predict(vdata_lda)\n",
    "    acc = accuracy_score(vlabels.ravel(), labels_pred.ravel())\n",
    "    print(g,acc)\n",
    "\n",
    "#clf = svm.SVC(kernel='poly',degree=3,class_weight=w,gamma=0.04,max_iter=10000)\n",
    "#clf.fit(tdata_lda, tlabels.ravel())\n",
    "#labels_pred=clf.predict(vdata_lda)\n",
    "#acc = accuracy_score(vlabels.ravel(), labels_pred.ravel())\n",
    "#classifier_matti_output = clf.predict(test_lda)\n",
    "#print(0.04,acc)\n"
   ]
  },
  {
   "cell_type": "code",
   "execution_count": 80,
   "metadata": {},
   "outputs": [
    {
     "name": "stdout",
     "output_type": "stream",
     "text": [
      "[0.76394858 0.46843531 0.12161903 0.06402273 0.04634457 0.03145128\n",
      " 0.02801016 0.02025193 0.01936487 0.01664958]\n",
      "[ 3.58857806e-05  3.46824472e-05  3.30976375e-05  3.19090511e-05\n",
      "  3.01583150e-05  2.69840906e-05  2.29438184e-05  1.46351876e-05\n",
      "  1.10981295e-05  6.23466415e-06  2.81908471e-06  1.16442856e-19\n",
      "  1.46162702e-20 -3.69519743e-21]\n",
      "Random Forest score:  0.8443731377492552\n"
     ]
    }
   ],
   "source": [
    "#Choosing how much of the PCA data to include.\n",
    "#We see that there is a significant drop in the computation error and eigenvalues somewhere near the 175th eigenvalue\n",
    "\n",
    "print(values_sorted[170:180])\n",
    "#From this we see that a reasonable cutoff point is at the 175th eigenvalue\n",
    "\n",
    "print(values_sorted[250:])\n",
    "\n",
    "# Trials with ML algorithms\n",
    "\n",
    "\n",
    "\n",
    "#TODO\n",
    "#Polynomial regression\n",
    "\n",
    "#Mattes algoritmer\n",
    "#Try 1, LinearRegression\n",
    "#classifier_1 = linear_model.LinearRegression().fit(traindata_PCA, train_labels)\n",
    "#score1 = classifier_1.score(traindata_PCA, train_labels)\n",
    "#classifier_1.predict(testdata_PCA)\n",
    "\n",
    "#Try 2, SVM\n",
    "#classifier_2 = SVC(gamma='auto')\n",
    "#classifier_2.fit(train_data, train_labels.values.ravel())\n",
    "#classifier_2.score(train_data, train_labels.values.ravel())\n",
    "\n",
    "#Try 3, Deep learning\n",
    "#classifier_3 = MLPClassifier(solver='lbfgs', alpha=1e-2, hidden_layer_sizes=(5, 2), random_state=1)\n",
    "#classifier_3.fit(traindata_PCA, train_labels)\n",
    "#score3 = classifier_3.score(traindata_PCA, train_labels)\n",
    "\n",
    "#Try 4, Bayesian Ridge regression\n",
    "#classifier_4 = linear_model.BayesianRidge().fit(traindata_PCA, train_labels)\n",
    "#score4 = classifier_4.score(traindata_PCA, train_labels)\n",
    "\n",
    "#Try 5, Random Forest\n",
    "classifier_5 = RandomForestClassifier(n_estimators=100, max_depth = 10)\n",
    "classifier_5.fit(traindata_PCA, train_labels.ravel())\n",
    "score5 = classifier_5.score(traindata_PCA, train_labels.ravel())\n",
    "classifier_5_output = classifier_5.predict(testdata_PCA)\n",
    "classifier_5_output_logloss = classifier_5.predict_proba(testdata_PCA)\n",
    "\n",
    "\n",
    "#Try 6, SVM\n",
    "clf = SVC(kernel='poly',degree=3,gamma=0.1,max_iter=100000)\n",
    "clf.fit(data, train_labels.ravel())\n",
    "score5 = clf.score(data, train_labels.ravel())\n",
    "clf6_output = clf.predict(test_data)\n",
    "\n",
    "\n",
    "#Output\n",
    "#print(\"Linear regression score: \", score1)\n",
    "#print(\"Deep learning score: \", score3)\n",
    "#print(\"Bayesian Ridge Regression score: \", score4)\n",
    "print(\"Random Forest score: \", score5)\n"
   ]
  },
  {
   "cell_type": "code",
   "execution_count": 84,
   "metadata": {},
   "outputs": [
    {
     "data": {
      "text/plain": [
       "array([0.65759637, 0.64772727, 0.66742597, 0.67351598, 0.63844394,\n",
       "       0.64220183, 0.66359447, 0.66589862, 0.68287037, 0.64351852])"
      ]
     },
     "execution_count": 84,
     "metadata": {},
     "output_type": "execute_result"
    }
   ],
   "source": [
    "score5 = clf.score(data, train_labels.ravel())\n",
    "cross_val_score(clf, data, train_labels.ravel(), cv=10)"
   ]
  },
  {
   "cell_type": "code",
   "execution_count": 85,
   "metadata": {},
   "outputs": [
    {
     "data": {
      "text/plain": [
       "array([ 3.5681e+03,  5.6932e+03,  5.5398e+03,  5.5269e+03,  3.9664e+03,\n",
       "        4.7217e+03,  4.9451e+03,  4.4219e+03,  3.6371e+03,  3.1334e+03,\n",
       "        2.9706e+03,  2.8982e+03,  4.6319e+03,  5.3953e+03,  6.6263e+03,\n",
       "        5.9758e+03,  5.5843e+03,  4.2417e+03,  2.9001e+03,  2.0882e+03,\n",
       "        1.5580e+03,  1.2426e+03,  5.5934e+02,  1.0660e+00,  1.6481e+03,\n",
       "        2.8680e+03,  3.5756e+03,  2.4026e+03,  2.3341e+03,  3.1901e+03,\n",
       "        2.7519e+03,  3.2412e+03,  2.8617e+03,  1.1597e+03,  1.2662e+03,\n",
       "        7.0066e+02,  2.1433e+03,  1.8157e+03,  2.8484e+03,  1.6572e+03,\n",
       "        1.4959e+03,  8.2346e+02,  5.1864e+02,  2.8404e+02,  1.9759e+02,\n",
       "        1.0613e+02,  4.0998e+01,  0.0000e+00,  1.6726e+03,  4.9010e+02,\n",
       "        8.9995e+02,  5.3075e+02,  8.3220e+02,  7.0925e+02,  4.5642e+02,\n",
       "        2.4502e+02,  9.7843e+02,  7.9462e+02,  8.9106e+02,  8.0751e+02,\n",
       "        6.2414e+02,  6.5687e+02,  5.2588e+02,  4.5754e+02,  6.4041e+02,\n",
       "        5.4956e+02,  8.5695e+02,  7.1335e+02,  6.7336e+02,  5.9398e+02,\n",
       "        5.0334e+02,  1.0000e+03,  6.9832e+03,  3.3628e+03,  4.7617e+03,\n",
       "        3.1936e+03,  5.2006e+03,  3.3037e+03,  2.7373e+03,  2.0787e+03,\n",
       "        3.7498e+03,  3.2225e+03,  4.0019e+03,  3.9924e+03,  3.6065e+03,\n",
       "        3.7879e+03,  3.0360e+03,  3.5687e+03,  3.9506e+03,  3.7640e+03,\n",
       "        3.9494e+03,  3.4798e+03,  3.3693e+03,  3.1615e+03,  2.6286e+03,\n",
       "        1.0000e+03,  3.4197e+03,  5.5719e+03,  5.3527e+03,  5.3356e+03,\n",
       "        3.8691e+03,  4.4726e+03,  4.7527e+03,  4.2092e+03,  3.0939e+03,\n",
       "        2.8860e+03,  2.7369e+03,  2.7598e+03,  4.4635e+03,  5.2528e+03,\n",
       "        6.4509e+03,  5.8928e+03,  5.4626e+03,  4.1639e+03,  2.7659e+03,\n",
       "        2.0062e+03,  1.4967e+03,  1.1901e+03,  5.2530e+02,  1.0660e+00,\n",
       "        9.4934e+02,  1.7210e+03,  1.6457e+03,  1.9481e+03,  9.4495e+02,\n",
       "        1.2604e+03,  1.5282e+03,  1.3265e+03,  1.0737e+03,  1.1728e+03,\n",
       "        9.3581e+02,  1.0802e+03,  1.8250e+03,  2.5294e+03,  2.9226e+03,\n",
       "        2.7277e+03,  2.7587e+03,  2.1821e+03,  1.5249e+03,  1.0306e+03,\n",
       "        7.0890e+02,  5.6153e+02,  1.3789e+02,  1.0660e+00,  9.0912e+03,\n",
       "        1.1718e+04,  1.3966e+04,  1.0718e+04,  1.0900e+04,  1.0652e+04,\n",
       "        9.9942e+03,  9.1465e+03,  8.6461e+03,  6.5700e+03,  7.1967e+03,\n",
       "        6.3547e+03,  9.8662e+03,  1.0635e+04,  1.2479e+04,  1.0777e+04,\n",
       "        9.9935e+03,  7.7507e+03,  6.2625e+03,  4.2901e+03,  3.3640e+03,\n",
       "        2.4450e+03,  1.1490e+03,  1.0660e+00,  4.2602e-01,  3.8427e-01,\n",
       "        5.5554e-01,  2.6825e-01,  2.5002e-01,  3.1221e-01,  2.3820e-01,\n",
       "        3.0260e-01,  3.3298e-01,  4.0414e-01,  4.2382e-01,  3.0417e-01,\n",
       "        9.8876e-02,  7.6411e-02,  1.2538e-01,  3.8945e-02,  5.4661e-02,\n",
       "        7.7425e-02,  4.2781e-02,  7.2600e-02,  7.2459e-02,  8.3020e-02,\n",
       "        1.1596e-01,  4.5904e-02,  1.2000e-02,  1.2000e-02,  1.2000e-02,\n",
       "        7.0000e-03,  8.0000e-03,  6.0000e-03,  1.2000e-02,  4.0000e-03,\n",
       "        5.0000e-03,  1.3000e-02,  5.0000e-03,  7.0000e-03,  1.0000e+00,\n",
       "        1.0000e+00,  1.0000e+00,  1.0000e+00,  1.0000e+00,  1.0000e+00,\n",
       "        1.0000e+00,  1.0000e+00,  1.0000e+00,  1.0000e+00,  1.0000e+00,\n",
       "        1.0000e+00,  1.0000e+06,  1.0000e+06,  1.0000e+06,  1.0000e+06,\n",
       "       -3.8009e-02, -1.7174e-02, -8.9413e-03, -3.0584e-03,  5.2801e-03,\n",
       "        8.4958e-04,  5.6486e-04, -2.1155e-03,  2.0377e-02,  1.6690e+00,\n",
       "        5.8804e-01,  4.3948e-01,  7.4558e-01,  3.4321e-01,  3.8607e-01,\n",
       "        2.8133e-01,  2.5444e-01,  1.7691e-01,  1.1832e-01,  1.8599e-01,\n",
       "        0.0000e+00, -1.2547e-01, -3.5442e-02, -1.1779e-01, -1.7085e-01,\n",
       "       -6.4476e-02, -1.0341e-01, -5.2457e-02, -8.4946e-02, -5.6078e-02,\n",
       "       -5.0386e-02, -8.6274e-02,  5.5399e-02,  1.7113e-01,  1.6821e-01,\n",
       "        1.5137e-01,  5.7491e-02,  2.1219e-01,  5.4389e-02,  1.0525e-01,\n",
       "        5.6057e-02,  6.3070e-02,  9.9216e-02,  4.0801e-02])"
      ]
     },
     "execution_count": 85,
     "metadata": {},
     "output_type": "execute_result"
    }
   ],
   "source": [
    "train_data[217]"
   ]
  },
  {
   "cell_type": "code",
   "execution_count": null,
   "metadata": {},
   "outputs": [],
   "source": [
    "#Mattis algoritmer\n",
    "#Try the same as above, but for the reduced data\n",
    "\n",
    "classifier_5_reduced = RandomForestClassifier(n_estimators=10, max_depth = 10).fit(traindata_PCA, train_labels.values.ravel())\n",
    "score5_reduced = classifier_5_reduced.score(traindata_PCA, train_labels.values.ravel())\n",
    "classifier_5_reduced_output = classifier_5_reduced.predict(testdata_PCA)\n",
    "\n",
    "\n",
    "#Output\n",
    "print(\"Random Forest score with PCA compression, boom: \", score5_reduced)\n",
    "\n"
   ]
  },
  {
   "cell_type": "markdown",
   "metadata": {},
   "source": [
    "## 4. Results (Output: Smeds, Confusion matrix: Fontell)"
   ]
  },
  {
   "cell_type": "markdown",
   "metadata": {},
   "source": [
    "*Summarize the results of the experiments without discussing their implications.*\n",
    "\n",
    "*- Include both performance measures (accuracy and LogLoss).*\n",
    "\n",
    "*- How does it perform on kaggle compared to the train data.*\n",
    "\n",
    "*- Include a confusion matrix.*\n",
    "\n"
   ]
  },
  {
   "cell_type": "code",
   "execution_count": 83,
   "metadata": {},
   "outputs": [],
   "source": [
    "#Confusion matrix ...\n",
    "\n",
    "#Output for Accuracy competition\n",
    "output_csv = pd.DataFrame({'Sample_label': classifier_5_output})\n",
    "output_csv.index += 1\n",
    "output_csv.index.names = ['Sample_id']\n",
    "\n",
    "#Output for Logloss competition\n",
    "output_csv2 = pd.DataFrame(classifier_5_output_logloss, columns=['Class_1', 'Class_2', 'Class_3', 'Class_4', 'Class_5','Class_6','Class_7','Class_8','Class_9','Class_10',])\n",
    "output_csv2.index += 1\n",
    "output_csv2.index.names = ['Sample_id']\n",
    "\n",
    "#output_csv.rename({1: \"Sample_id\", 2: \"Sample_label\"}, index=)\n",
    "output_csv.to_csv('upload_to_kaggle_accuracy.csv')\n",
    "output_csv2.to_csv('upload_to_kaggle_logloss.csv')\n"
   ]
  },
  {
   "cell_type": "markdown",
   "metadata": {},
   "source": [
    "## 5. Discussion/Conclusions"
   ]
  },
  {
   "cell_type": "markdown",
   "metadata": {},
   "source": [
    "*Interpret and explain your results *\n",
    "\n",
    "*- Discuss the relevance of the performance measures (accuracy and LogLoss) for\n",
    "imbalanced multiclass datasets. *\n",
    "\n",
    "*- How the results relate to the literature. *\n",
    "\n",
    "*- Suggestions for future research/improvement. *\n",
    "\n",
    "*- Did the study answer your questions? *\n",
    "\n"
   ]
  },
  {
   "cell_type": "markdown",
   "metadata": {},
   "source": [
    "## 6. References"
   ]
  },
  {
   "cell_type": "markdown",
   "metadata": {},
   "source": [
    "[1] N.M. Patil, M.U. Nemande: \"Music Genre Classification Using MFCC, K-NN and SVM Classifier\". International Journal of Computer Engineering In Research Trends, Vol. 4, Issue 2, pp 43-47, 2017."
   ]
  },
  {
   "cell_type": "markdown",
   "metadata": {},
   "source": [
    "## Appendix\n",
    "*Any additional material needed to complete the report can be included here. For example, if you want to keep  additional source code, additional images or plots, mathematical derivations, etc. The content should be relevant to the report and should help explain or visualize something mentioned earlier. **You can remove the whole Appendix section if there is no need for it.** *"
   ]
  },
  {
   "cell_type": "code",
   "execution_count": null,
   "metadata": {},
   "outputs": [],
   "source": []
  }
 ],
 "metadata": {
  "kernelspec": {
   "display_name": "Python 3",
   "language": "python",
   "name": "python3"
  },
  "language_info": {
   "codemirror_mode": {
    "name": "ipython",
    "version": 3
   },
   "file_extension": ".py",
   "mimetype": "text/x-python",
   "name": "python",
   "nbconvert_exporter": "python",
   "pygments_lexer": "ipython3",
   "version": "3.7.0"
  }
 },
 "nbformat": 4,
 "nbformat_minor": 2
}
