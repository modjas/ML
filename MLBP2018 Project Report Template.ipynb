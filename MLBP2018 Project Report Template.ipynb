{
 "cells": [
  {
   "cell_type": "markdown",
   "metadata": {},
   "source": [
    "**Machine Learning Basic Principles 2018 - Data Analysis Project Report**"
   ]
  },
  {
   "cell_type": "markdown",
   "metadata": {},
   "source": [
    "*All the text in italics is instructions for filling the template - remove when writing the project report!*"
   ]
  },
  {
   "cell_type": "markdown",
   "metadata": {},
   "source": [
    "# *Title* "
   ]
  },
  {
   "cell_type": "markdown",
   "metadata": {},
   "source": [
    "*Title should be concise and informative, describes the approach to solve the problem. Some good titles from previous years:*\n",
    "\n",
    "*- Comparing extreme learning machines and naive bayes’ classifier in spam detection*\n",
    "\n",
    "*- Using linear discriminant analysis in spam detection*\n",
    "\n",
    "*Some not-so-good titles:*\n",
    "\n",
    "*- Bayesian spam filtering with extras*\n",
    "\n",
    "*- Two-component classifier for spam detection*\n",
    "\n",
    "*- CS-E3210 Term Project, final report*\n",
    "\n",
    "\n"
   ]
  },
  {
   "cell_type": "markdown",
   "metadata": {},
   "source": [
    "## Abstract"
   ]
  },
  {
   "cell_type": "markdown",
   "metadata": {},
   "source": [
    "*Precise summary of the whole report, previews the contents and results. Must be a single paragraph between 100 and 200 words.*\n",
    "\n"
   ]
  },
  {
   "cell_type": "markdown",
   "metadata": {},
   "source": [
    "## 1. Introduction"
   ]
  },
  {
   "cell_type": "markdown",
   "metadata": {},
   "source": [
    "*Background, problem statement, motivation, many references, description of\n",
    "contents. Introduces the reader to the topic and the broad context within which your\n",
    "research/project fits*\n",
    "\n",
    "*- What do you hope to learn from the project?*\n",
    "*- What question is being addressed?*\n",
    "*- Why is this task important? (motivation)*\n",
    "\n",
    "*Keep it short (half to 1 page).*\n",
    "\n"
   ]
  },
  {
   "cell_type": "markdown",
   "metadata": {},
   "source": [
    "## 2. Data analysis"
   ]
  },
  {
   "cell_type": "markdown",
   "metadata": {},
   "source": [
    "*Briefly describe data (class distribution, dimensionality) and how will it affect\n",
    "classification. Visualize the data. Don’t focus too much on the meaning of the features,\n",
    "unless you want to.*\n",
    "\n",
    "*- Include histograms showing class distribution.*\n",
    "\n"
   ]
  },
  {
   "cell_type": "code",
   "execution_count": 2,
   "metadata": {},
   "outputs": [],
   "source": [
    "# Import libraries\n",
    "import pandas as pd\n",
    "import numpy as np\n",
    "import matplotlib.pyplot as plt\n",
    "from sklearn import linear_model\n",
    "from sklearn.svm import SVC\n",
    "from sklearn.neural_network import MLPClassifier\n",
    "from sklearn.ensemble import RandomForestClassifier\n"
   ]
  },
  {
   "cell_type": "code",
   "execution_count": 3,
   "metadata": {},
   "outputs": [],
   "source": [
    "# Load the data and cleanup\n",
    "train_data = pd.read_csv(\"train_data.csv\", header=None)\n",
    "test_data = pd.read_csv(\"test_data.csv\", header=None)\n",
    "train_labels = pd.read_csv(\"train_labels.csv\", header=None)\n",
    "\n",
    "\n"
   ]
  },
  {
   "cell_type": "code",
   "execution_count": 3,
   "metadata": {},
   "outputs": [
    {
     "name": "stdout",
     "output_type": "stream",
     "text": [
      "<class 'pandas.core.frame.DataFrame'>\n",
      "RangeIndex: 4363 entries, 0 to 4362\n",
      "Data columns (total 1 columns):\n",
      "0    4363 non-null int64\n",
      "dtypes: int64(1)\n",
      "memory usage: 34.2 KB\n"
     ]
    }
   ],
   "source": [
    "train_labels.info()"
   ]
  },
  {
   "cell_type": "code",
   "execution_count": null,
   "metadata": {},
   "outputs": [
    {
     "name": "stdout",
     "output_type": "stream",
     "text": [
      "(4363, 264) (6544, 264) (4363, 1)\n"
     ]
    }
   ],
   "source": [
    "#Analysis of the input data: MATTE\n",
    "print(train_data.shape, test_data.shape, train_labels.shape)\n",
    "\n",
    "\n",
    "\n",
    "#Histogram of class distribution\n",
    "\n",
    "class_labels = ['Pop_Rock', 'Electronic', 'Rap', 'Jazz', 'Latin', 'RnB', 'International', 'Country', 'Reggae', 'Blues']\n",
    "\n",
    "plt.hist(train_labels, bins=10)\n",
    "plt.show()\n",
    "\n",
    "plt.scatter(train_data.values[:,45], train_labels)\n",
    "plt.show()"
   ]
  },
  {
   "cell_type": "code",
   "execution_count": 102,
   "metadata": {},
   "outputs": [
    {
     "name": "stderr",
     "output_type": "stream",
     "text": [
      "C:\\Users\\Mathias\\Anaconda3\\lib\\site-packages\\ipykernel_launcher.py:29: FutureWarning: Method .as_matrix will be removed in a future version. Use .values instead.\n",
      "C:\\Users\\Mathias\\Anaconda3\\lib\\site-packages\\ipykernel_launcher.py:30: FutureWarning: Method .as_matrix will be removed in a future version. Use .values instead.\n"
     ]
    },
    {
     "name": "stdout",
     "output_type": "stream",
     "text": [
      "(4363, 20)\n"
     ]
    }
   ],
   "source": [
    "#Analysis of the input data: MATTI\n",
    "from sklearn.decomposition import PCA\n",
    "\n",
    "#TODO: divide data training data and labels into two halves - one for training, the other for validation\n",
    "#TODO: Counteract imbalance in data set\n",
    "\n",
    "def create_reduced_data(data):\n",
    "    assert data.shape[1] == 264\n",
    "    N=data.shape[0]\n",
    "    reduced_data=np.zeros((N,96))\n",
    "    for i in range(0,N):\n",
    "        #1: Collect mean and variance of all 24 rhythm bands. Each band consists of 7 statistics\n",
    "        for j in range(0,24):\n",
    "            mean=data[i,j*7]\n",
    "            variance=data[i,j*7+2]\n",
    "            reduced_data[i,2*j]=mean\n",
    "            reduced_data[i,2*j+1]=variance\n",
    "        #2: Collect mean and standard deviation of all 12 chroma bands. Each band consists of 4 statistics\n",
    "        for j in range(0,12):\n",
    "            mean=data[i,168+j*4]\n",
    "            std_dev=data[i,168+j*4+1]\n",
    "            reduced_data[i,48+2*j]=mean\n",
    "            reduced_data[i,48+2*j+1]=std_dev\n",
    "        #3: Collect mean and standard deviation of all 12 MFCC bands. Each band consists of 4 statistics\n",
    "        for j in range(0,12):\n",
    "            mean=data[i,216+j*4]\n",
    "            std_dev=data[i,216+j*4+1]\n",
    "            reduced_data[i,72+2*j]=mean\n",
    "            reduced_data[i,72+2*j+1]=std_dev\n",
    "    return reduced_data\n",
    "\n",
    "traindata_mat = train_data.as_matrix() # convert the data frame to numpy matrix\n",
    "testdata_mat = test_data.as_matrix() # convert the data frame to numpy matrix\n",
    "reduced_traindata=create_reduced_data(traindata_mat)\n",
    "reduced_testdata=create_reduced_data(testdata_mat)\n",
    "\n",
    "cov=np.cov(np.transpose(traindata_mat))\n",
    "eigenValues, eigenVectors = np.linalg.eig(cov)\n",
    "#idx = eigenValues.argsort()[::-1]\n",
    "\n",
    "#test principal component analysis of data\n",
    "pca=PCA(n_components = 20)\n",
    "pca.fit(traindata_mat)\n",
    "traindata_PCA=pca.transform(traindata_mat)\n",
    "testdata_PCA=pca.transform(testdata_mat)\n",
    "print(traindata_PCA.shape)"
   ]
  },
  {
   "cell_type": "code",
   "execution_count": 78,
   "metadata": {},
   "outputs": [
    {
     "data": {
      "image/png": "[encoded data removed]",
      "text/plain": [
       "<Figure size 576x432 with 1 Axes>"
      ]
     },
     "metadata": {
      "needs_background": "light"
     },
     "output_type": "display_data"
    }
   ],
   "source": [
    "fig=plt.figure(figsize=(8,6))\n",
    "plt.plot(eigenvalues[0:20])\n",
    "plt.xlabel('number of eigenvalue')\n",
    "plt.ylabel('eigenvalue')\n",
    "plt.title(\"First 20 eigenvalues of the covariance matrix\")\n",
    "plt.show()"
   ]
  },
  {
   "cell_type": "markdown",
   "metadata": {},
   "source": [
    "## 3. Methods and experiments"
   ]
  },
  {
   "cell_type": "markdown",
   "metadata": {},
   "source": [
    "*- Explain your whole approach (you can include a block diagram showing the steps in your process).* \n",
    "\n",
    "*- What methods/algorithms, why were the methods chosen. *\n",
    "\n",
    "*- What evaluation methodology (cross CV, etc.).*\n",
    "\n"
   ]
  },
  {
   "cell_type": "code",
   "execution_count": 5,
   "metadata": {},
   "outputs": [
    {
     "name": "stdout",
     "output_type": "stream",
     "text": [
      "Linear regression score:  0.3364829686294144\n",
      "Deep learning score:  0.49919779967911987\n",
      "Bayesian Ridge Regression score:  0.24888942840916128\n",
      "Random Forest score:  0.7107494842997937\n"
     ]
    }
   ],
   "source": [
    "# Trials with ML algorithms\n",
    "\n",
    "#TODO\n",
    "#Polynomial regression\n",
    "\n",
    "#Mattes algoritmer\n",
    "#Try 1, LinearRegression\n",
    "classifier_1 = linear_model.LinearRegression().fit(train_data, train_labels)\n",
    "score1 = classifier_1.score(train_data, train_labels)\n",
    "classifier_1.predict(test_data)\n",
    "\n",
    "#Try 2, SVM\n",
    "#classifier_2 = SVC(gamma='auto')\n",
    "#classifier_2.fit(train_data, train_labels.values.ravel())\n",
    "#classifier_2.score(train_data, train_labels.values.ravel())\n",
    "\n",
    "#Try 3, Deep learning\n",
    "classifier_3 = MLPClassifier(solver='lbfgs', alpha=1e-2, hidden_layer_sizes=(5, 2), random_state=1)\n",
    "classifier_3.fit(train_data, train_labels.values.ravel())\n",
    "score3 = classifier_3.score(train_data, train_labels.values.ravel())\n",
    "\n",
    "#Try 4, Bayesian Ridge regression\n",
    "classifier_4 = linear_model.BayesianRidge().fit(train_data, train_labels.values.ravel())\n",
    "score4 = classifier_4.score(train_data, train_labels.values.ravel())\n",
    "\n",
    "#Try 5, Random Forest\n",
    "classifier_5 = RandomForestClassifier(n_estimators=100, max_depth = 8).fit(train_data, train_labels.values.ravel())\n",
    "score5 = classifier_5.score(train_data, train_labels.values.ravel())\n",
    "classifier_5_output = classifier_5.predict(test_data)\n",
    "\n",
    "\n",
    "#Output\n",
    "print(\"Linear regression score: \", score1)\n",
    "print(\"Deep learning score: \", score3)\n",
    "print(\"Bayesian Ridge Regression score: \", score4)\n",
    "print(\"Random Forest score: \", score5)"
   ]
  },
  {
   "cell_type": "code",
   "execution_count": 1,
   "metadata": {},
   "outputs": [
    {
     "ename": "NameError",
     "evalue": "name 'RandomForestClassifier' is not defined",
     "output_type": "error",
     "traceback": [
      "\u001b[1;31m---------------------------------------------------------------------------\u001b[0m",
      "\u001b[1;31mNameError\u001b[0m                                 Traceback (most recent call last)",
      "\u001b[1;32m<ipython-input-1-47876c828dd9>\u001b[0m in \u001b[0;36m<module>\u001b[1;34m()\u001b[0m\n\u001b[0;32m      2\u001b[0m \u001b[1;31m#Try the same as above, but for the reduced data\u001b[0m\u001b[1;33m\u001b[0m\u001b[1;33m\u001b[0m\u001b[0m\n\u001b[0;32m      3\u001b[0m \u001b[1;33m\u001b[0m\u001b[0m\n\u001b[1;32m----> 4\u001b[1;33m \u001b[0mclassifier_5_reduced\u001b[0m \u001b[1;33m=\u001b[0m \u001b[0mRandomForestClassifier\u001b[0m\u001b[1;33m(\u001b[0m\u001b[0mn_estimators\u001b[0m\u001b[1;33m=\u001b[0m\u001b[1;36m10\u001b[0m\u001b[1;33m,\u001b[0m \u001b[0mmax_depth\u001b[0m \u001b[1;33m=\u001b[0m \u001b[1;36m10\u001b[0m\u001b[1;33m)\u001b[0m\u001b[1;33m.\u001b[0m\u001b[0mfit\u001b[0m\u001b[1;33m(\u001b[0m\u001b[0mtraindata_PCA\u001b[0m\u001b[1;33m,\u001b[0m \u001b[0mtrain_labels\u001b[0m\u001b[1;33m.\u001b[0m\u001b[0mvalues\u001b[0m\u001b[1;33m.\u001b[0m\u001b[0mravel\u001b[0m\u001b[1;33m(\u001b[0m\u001b[1;33m)\u001b[0m\u001b[1;33m)\u001b[0m\u001b[1;33m\u001b[0m\u001b[0m\n\u001b[0m\u001b[0;32m      5\u001b[0m \u001b[0mscore5_reduced\u001b[0m \u001b[1;33m=\u001b[0m \u001b[0mclassifier_5_reduced\u001b[0m\u001b[1;33m.\u001b[0m\u001b[0mscore\u001b[0m\u001b[1;33m(\u001b[0m\u001b[0mtraindata_PCA\u001b[0m\u001b[1;33m,\u001b[0m \u001b[0mtrain_labels\u001b[0m\u001b[1;33m.\u001b[0m\u001b[0mvalues\u001b[0m\u001b[1;33m.\u001b[0m\u001b[0mravel\u001b[0m\u001b[1;33m(\u001b[0m\u001b[1;33m)\u001b[0m\u001b[1;33m)\u001b[0m\u001b[1;33m\u001b[0m\u001b[0m\n\u001b[0;32m      6\u001b[0m \u001b[0mclassifier_5_reduced_output\u001b[0m \u001b[1;33m=\u001b[0m \u001b[0mclassifier_5_reduced\u001b[0m\u001b[1;33m.\u001b[0m\u001b[0mpredict\u001b[0m\u001b[1;33m(\u001b[0m\u001b[0mtestdata_PCA\u001b[0m\u001b[1;33m)\u001b[0m\u001b[1;33m\u001b[0m\u001b[0m\n",
      "\u001b[1;31mNameError\u001b[0m: name 'RandomForestClassifier' is not defined"
     ]
    }
   ],
   "source": [
    "#Mattis algoritmer\n",
    "#Try the same as above, but for the reduced data\n",
    "\n",
    "classifier_5_reduced = RandomForestClassifier(n_estimators=10, max_depth = 10).fit(traindata_PCA, train_labels.values.ravel())\n",
    "score5_reduced = classifier_5_reduced.score(traindata_PCA, train_labels.values.ravel())\n",
    "classifier_5_reduced_output = classifier_5_reduced.predict(testdata_PCA)\n",
    "\n",
    "\n",
    "#Output\n",
    "print(\"Random Forest score with PCA compression, boom: \", score5_reduced)\n",
    "\n"
   ]
  },
  {
   "cell_type": "markdown",
   "metadata": {},
   "source": [
    "## 4. Results"
   ]
  },
  {
   "cell_type": "markdown",
   "metadata": {},
   "source": [
    "*Summarize the results of the experiments without discussing their implications.*\n",
    "\n",
    "*- Include both performance measures (accuracy and LogLoss).*\n",
    "\n",
    "*- How does it perform on kaggle compared to the train data.*\n",
    "\n",
    "*- Include a confusion matrix.*\n",
    "\n"
   ]
  },
  {
   "cell_type": "code",
   "execution_count": 106,
   "metadata": {},
   "outputs": [
    {
     "ename": "NameError",
     "evalue": "name 'classifier_5_output' is not defined",
     "output_type": "error",
     "traceback": [
      "\u001b[1;31m---------------------------------------------------------------------------\u001b[0m",
      "\u001b[1;31mNameError\u001b[0m                                 Traceback (most recent call last)",
      "\u001b[1;32m<ipython-input-106-88e1b9982317>\u001b[0m in \u001b[0;36m<module>\u001b[1;34m()\u001b[0m\n\u001b[0;32m      2\u001b[0m \u001b[1;33m\u001b[0m\u001b[0m\n\u001b[0;32m      3\u001b[0m \u001b[1;31m#Output for Accuracy competition\u001b[0m\u001b[1;33m\u001b[0m\u001b[1;33m\u001b[0m\u001b[0m\n\u001b[1;32m----> 4\u001b[1;33m \u001b[0moutput_csv\u001b[0m \u001b[1;33m=\u001b[0m \u001b[0mpd\u001b[0m\u001b[1;33m.\u001b[0m\u001b[0mDataFrame\u001b[0m\u001b[1;33m(\u001b[0m\u001b[1;33m{\u001b[0m\u001b[1;34m'Sample_label'\u001b[0m\u001b[1;33m:\u001b[0m \u001b[0mclassifier_5_output\u001b[0m\u001b[1;33m}\u001b[0m\u001b[1;33m)\u001b[0m\u001b[1;33m\u001b[0m\u001b[0m\n\u001b[0m\u001b[0;32m      5\u001b[0m \u001b[0moutput_csv\u001b[0m\u001b[1;33m.\u001b[0m\u001b[0mindex\u001b[0m \u001b[1;33m+=\u001b[0m \u001b[1;36m1\u001b[0m\u001b[1;33m\u001b[0m\u001b[0m\n\u001b[0;32m      6\u001b[0m \u001b[0moutput_csv\u001b[0m\u001b[1;33m.\u001b[0m\u001b[0mindex\u001b[0m\u001b[1;33m.\u001b[0m\u001b[0mnames\u001b[0m \u001b[1;33m=\u001b[0m \u001b[1;33m[\u001b[0m\u001b[1;34m'Sample_id'\u001b[0m\u001b[1;33m]\u001b[0m\u001b[1;33m\u001b[0m\u001b[0m\n",
      "\u001b[1;31mNameError\u001b[0m: name 'classifier_5_output' is not defined"
     ]
    }
   ],
   "source": [
    "#Confusion matrix ...\n",
    "\n",
    "#Output for Accuracy competition\n",
    "output_csv = pd.DataFrame({'Sample_label': classifier_5_reduced_output})\n",
    "output_csv.index += 1\n",
    "output_csv.index.names = ['Sample_id']\n",
    "\n",
    "#output_csv.rename({1: \"Sample_id\", 2: \"Sample_label\"}, index=)\n",
    "print(output_csv)\n",
    "output_csv.to_csv('upload_to_kaggle_accuracy.csv')\n"
   ]
  },
  {
   "cell_type": "markdown",
   "metadata": {},
   "source": [
    "## 5. Discussion/Conclusions"
   ]
  },
  {
   "cell_type": "markdown",
   "metadata": {},
   "source": [
    "*Interpret and explain your results *\n",
    "\n",
    "*- Discuss the relevance of the performance measures (accuracy and LogLoss) for\n",
    "imbalanced multiclass datasets. *\n",
    "\n",
    "*- How the results relate to the literature. *\n",
    "\n",
    "*- Suggestions for future research/improvement. *\n",
    "\n",
    "*- Did the study answer your questions? *\n",
    "\n"
   ]
  },
  {
   "cell_type": "markdown",
   "metadata": {},
   "source": [
    "## 6. References"
   ]
  },
  {
   "cell_type": "markdown",
   "metadata": {},
   "source": [
    "*List of all the references cited in the document*"
   ]
  },
  {
   "cell_type": "markdown",
   "metadata": {},
   "source": [
    "## Appendix\n",
    "*Any additional material needed to complete the report can be included here. For example, if you want to keep  additional source code, additional images or plots, mathematical derivations, etc. The content should be relevant to the report and should help explain or visualize something mentioned earlier. **You can remove the whole Appendix section if there is no need for it.** *"
   ]
  },
  {
   "cell_type": "code",
   "execution_count": null,
   "metadata": {},
   "outputs": [],
   "source": []
  }
 ],
 "metadata": {
  "kernelspec": {
   "display_name": "Python 3",
   "language": "python",
   "name": "python3"
  },
  "language_info": {
   "codemirror_mode": {
    "name": "ipython",
    "version": 3
   },
   "file_extension": ".py",
   "mimetype": "text/x-python",
   "name": "python",
   "nbconvert_exporter": "python",
   "pygments_lexer": "ipython3",
   "version": "3.7.0"
  }
 },
 "nbformat": 4,
 "nbformat_minor": 2
}
