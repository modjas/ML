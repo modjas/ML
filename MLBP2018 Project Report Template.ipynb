{
 "cells": [
  {
   "cell_type": "markdown",
   "metadata": {},
   "source": [
    "**Machine Learning Basic Principles 2018 - Data Analysis Project Report**"
   ]
  },
  {
   "cell_type": "markdown",
   "metadata": {},
   "source": [
    "*All the text in italics is instructions for filling the template - remove when writing the project report!*"
   ]
  },
  {
   "cell_type": "markdown",
   "metadata": {},
   "source": [
    "# *Title* "
   ]
  },
  {
   "cell_type": "markdown",
   "metadata": {},
   "source": [
    "*Title should be concise and informative, describes the approach to solve the problem. Some good titles from previous years:*\n",
    "\n",
    "*- Comparing extreme learning machines and naive bayes’ classifier in spam detection*\n",
    "\n",
    "*- Using linear discriminant analysis in spam detection*\n",
    "\n",
    "*Some not-so-good titles:*\n",
    "\n",
    "*- Bayesian spam filtering with extras*\n",
    "\n",
    "*- Two-component classifier for spam detection*\n",
    "\n",
    "*- CS-E3210 Term Project, final report*\n",
    "\n",
    "\n"
   ]
  },
  {
   "cell_type": "markdown",
   "metadata": {},
   "source": [
    "## Abstract"
   ]
  },
  {
   "cell_type": "markdown",
   "metadata": {},
   "source": [
    "*Precise summary of the whole report, previews the contents and results. Must be a single paragraph between 100 and 200 words.*\n",
    "\n"
   ]
  },
  {
   "cell_type": "markdown",
   "metadata": {},
   "source": [
    "## 1. Introduction (SMEDS)"
   ]
  },
  {
   "cell_type": "markdown",
   "metadata": {},
   "source": [
    "*Background, problem statement, motivation, many references, description of\n",
    "contents. Introduces the reader to the topic and the broad context within which your\n",
    "research/project fits*\n",
    "\n",
    "*- What do you hope to learn from the project?*\n",
    "*- What question is being addressed?*\n",
    "*- Why is this task important? (motivation)*\n",
    "\n",
    "*Keep it short (half to 1 page).*\n",
    "\n",
    ".-.-.-.-.-.-.-.-\n",
    "\n",
    "Assigning a genre to a song is a task at which even humans might have different opinions as to what is the correct genre. Thus we can expect that teaching a computer to correctly predict a genre for a given song is no easy feat.\n",
    "\n",
    "Our task is to teach a computer to assign a genre to a song, based on data features extracted from the song. The two most important outcomes from this project are\n",
    "\n",
    "1. How well can a computer predict the genre of a song based on simple Machine Learning algorithms\n",
    "2. What preprocessing of the data is needed\n",
    "\n",
    "We have two datasets consisting of song features, with one of the datasets being labeled to specific genres. Depending on the bitrate and audio format a single song can be several tens of megabytes, with normal listening bitrate for an mp3-file requiring at least a few megabytes. This means that using all bits in the song would result in a huge dataset impractical for our purposes. Because of this we have a dataset consisting of features engineered from the song, so that one song does not take up too much storage and computational resources.\n",
    "\n",
    "The project consists of preprocessing the data and finding a training a predictor which performs well both in assigning each song a genre as well as having good confidence in that assignment.\n",
    "\n",
    "Googling \"machine learning song genre\" gives almost 8 million hits. It seems to be an interesting problem for developing ML algorithms, maybe because of it being hard to perform better than humans. Perhaps the most popular machine learning solution for music is tha Shazam-app which can come up with a song title based on a sample from a song. Even though Shazam is not centered around finding good accurate genre labels for songs, it is still close enough to this project to show that applying Machine Learning to music is relevant both for business and science purposes.\n",
    "\n"
   ]
  },
  {
   "cell_type": "markdown",
   "metadata": {},
   "source": [
    "## 2. Data analysis (FONTELL)"
   ]
  },
  {
   "cell_type": "markdown",
   "metadata": {},
   "source": [
    "*Briefly describe data (class distribution, dimensionality) and how will it affect\n",
    "classification. Visualize the data. Don’t focus too much on the meaning of the features,\n",
    "unless you want to.*\n",
    "\n",
    "*- Include histograms showing class distribution.*\n",
    "\n",
    "-.-.-.-.-\n",
    "\n",
    "Our dataset has the songs preprocessed into vectors of 264 features. The features contain information about the rhytm pattern, chroma and Mel Frequency Cepstral Coefficients (MFFC). Further understanding of the vectors is not needed for this project.\n",
    "- Överlopps data\n",
    "- PCA\n"
   ]
  },
  {
   "cell_type": "code",
   "execution_count": 1,
   "metadata": {},
   "outputs": [
    {
     "name": "stderr",
     "output_type": "stream",
     "text": [
      "C:\\Users\\Mathias\\Anaconda3\\lib\\site-packages\\sklearn\\ensemble\\weight_boosting.py:29: DeprecationWarning: numpy.core.umath_tests is an internal NumPy module and should not be imported. It will be removed in a future NumPy release.\n",
      "  from numpy.core.umath_tests import inner1d\n"
     ]
    }
   ],
   "source": [
    "# Import libraries\n",
    "import pandas as pd\n",
    "import numpy as np\n",
    "import matplotlib.pyplot as plt\n",
    "from sklearn import linear_model\n",
    "from sklearn.svm import SVC\n",
    "from sklearn.neural_network import MLPClassifier\n",
    "from sklearn.ensemble import RandomForestClassifier\n",
    "from sklearn.decomposition import PCA\n",
    "import random\n",
    "from random import randint\n",
    "from sklearn.model_selection import train_test_split\n"
   ]
  },
  {
   "cell_type": "code",
   "execution_count": 2,
   "metadata": {},
   "outputs": [
    {
     "name": "stderr",
     "output_type": "stream",
     "text": [
      "C:\\Users\\Mathias\\Anaconda3\\lib\\site-packages\\ipykernel_launcher.py:2: FutureWarning: Method .as_matrix will be removed in a future version. Use .values instead.\n",
      "  \n",
      "C:\\Users\\Mathias\\Anaconda3\\lib\\site-packages\\ipykernel_launcher.py:3: FutureWarning: Method .as_matrix will be removed in a future version. Use .values instead.\n",
      "  This is separate from the ipykernel package so we can avoid doing imports until\n",
      "C:\\Users\\Mathias\\Anaconda3\\lib\\site-packages\\ipykernel_launcher.py:4: FutureWarning: Method .as_matrix will be removed in a future version. Use .values instead.\n",
      "  after removing the cwd from sys.path.\n"
     ]
    }
   ],
   "source": [
    "# Load the data and cleanup\n",
    "train_data = pd.read_csv(\"train_data.csv\", header=None).as_matrix()\n",
    "test_data = pd.read_csv(\"test_data.csv\", header=None).as_matrix()\n",
    "train_labels = pd.read_csv(\"train_labels.csv\", header=None).as_matrix()"
   ]
  },
  {
   "cell_type": "markdown",
   "metadata": {},
   "source": [
    "Upon closer inspection of the data we see that many columns seem to have bad data. \n",
    "For example column with index 204 has mostly ones and column with index 216 is almost all 1E+06.\n",
    "In the cell below we remove the coumns having bad data."
   ]
  },
  {
   "cell_type": "code",
   "execution_count": 3,
   "metadata": {},
   "outputs": [
    {
     "data": {
      "image/png": "[encoded data removed]",
      "text/plain": [
       "<Figure size 432x288 with 2 Axes>"
      ]
     },
     "metadata": {
      "needs_background": "light"
     },
     "output_type": "display_data"
    }
   ],
   "source": [
    "pca=PCA(n_components = 10)\n",
    "principal_components = pca.fit_transform(train_data)\n",
    "\n",
    "plot_principal_components = np.column_stack((principal_components, train_labels))\n",
    "\n",
    "plt.scatter(plot_principal_components[:, 0], plot_principal_components[:, 1],\n",
    "            c=train_labels.ravel(), edgecolor='none', alpha=0.5,\n",
    "            cmap=plt.cm.get_cmap('nipy_spectral', 10))\n",
    "plt.xlabel('component 1')\n",
    "plt.ylabel('component 2')\n",
    "plt.colorbar();\n",
    "\n"
   ]
  },
  {
   "cell_type": "code",
   "execution_count": 4,
   "metadata": {},
   "outputs": [
    {
     "name": "stdout",
     "output_type": "stream",
     "text": [
      "(4363, 264) (6544, 264) (4363, 1)\n"
     ]
    },
    {
     "data": {
      "text/plain": [
       "(array([2178.,  618.,  326.,  253.,  214.,  260.,  141.,  195.,   92.,\n",
       "          86.]),\n",
       " array([ 1. ,  1.9,  2.8,  3.7,  4.6,  5.5,  6.4,  7.3,  8.2,  9.1, 10. ]),\n",
       " <a list of 10 Patch objects>)"
      ]
     },
     "execution_count": 4,
     "metadata": {},
     "output_type": "execute_result"
    },
    {
     "data": {
      "image/png": "[encoded data removed]",
      "text/plain": [
       "<Figure size 432x288 with 1 Axes>"
      ]
     },
     "metadata": {
      "needs_background": "light"
     },
     "output_type": "display_data"
    }
   ],
   "source": [
    "#Analysddis of the input data: MATTE\n",
    "print(train_data.shape, test_data.shape, train_labels.shape)\n",
    "\n",
    "#Histogram of class distribution\n",
    "plt.hist(train_labels[:,0])\n",
    "#plt.show()\n"
   ]
  },
  {
   "cell_type": "code",
   "execution_count": 55,
   "metadata": {},
   "outputs": [
    {
     "name": "stdout",
     "output_type": "stream",
     "text": [
      "3054 1309 4363 4363\n",
      "3025 1338\n"
     ]
    },
    {
     "data": {
      "text/plain": [
       "Text(0.5,1,'Validation data after split')"
      ]
     },
     "execution_count": 55,
     "metadata": {},
     "output_type": "execute_result"
    },
    {
     "data": {
      "image/png": "[encoded data removed]",
      "text/plain": [
       "<Figure size 1080x432 with 2 Axes>"
      ]
     },
     "metadata": {
      "needs_background": "light"
     },
     "output_type": "display_data"
    }
   ],
   "source": [
    "#Divide data into training data (70%) and validation data (30%)\n",
    "data=train_data\n",
    "frac_train=0.7\n",
    "frac_test=1.0-frac_train\n",
    "N=data.shape[0]\n",
    "D=data.shape[1]\n",
    "\n",
    "N_train=int(np.floor(frac_train*N))\n",
    "N_test=int(np.ceil(frac_test*N))\n",
    "print(N_train,N_test,N_train+N_test,N)\n",
    "\n",
    "selection=np.zeros((1,N)) ##0=training set, 1=validation set\n",
    "N_validation=0;\n",
    "\n",
    "#randomly choose about 30% of the data to be put into the validation set\n",
    "for i in range(N):\n",
    "    rand=random.uniform(0, 1)\n",
    "    if(rand<=frac_test):\n",
    "        selection[0,i]=1\n",
    "        N_validation+=1\n",
    "N_training=N-N_validation\n",
    "print(N_training,N_validation)\n",
    "\n",
    "tdata=np.zeros((N_training,D)) #new training data\n",
    "tlabels=np.zeros((N_training,1)) #corresponding labels of training set\n",
    "vdata=np.zeros((N_validation,D)) #validation data\n",
    "vlabels=np.zeros((N_validation,1)) #corresponding labels of validation set\n",
    "\n",
    "itrain=0\n",
    "ival=0\n",
    "for i in range(N):\n",
    "    if(selection[0,i]==0):\n",
    "        tdata[itrain,:]=data[i,:]\n",
    "        tlabels[itrain,0]=train_labels[i,0]\n",
    "        itrain+=1\n",
    "    else:\n",
    "        vdata[ival,:]=data[i,:]\n",
    "        vlabels[ival,0]=train_labels[i,0]\n",
    "        ival+=1\n",
    "\n",
    "\n",
    "'''\n",
    "#remove some of those damn pop songs\n",
    "remaining=0.3 #about 30% of pop songs remain\n",
    "N_pop=0\n",
    "for i in range(N_training):\n",
    "    if(tlabels[i]==1):\n",
    "        N_pop+=1\n",
    "\n",
    "to_delete=int(np.floor((1.0-remaining)*N_pop))\n",
    "deleted=0\n",
    "while(deleted<to_delete):\n",
    "    #pick random row in tdata\n",
    "    rand_row=randint(0, tdata.shape[0]-1)\n",
    "    if(tlabels[rand_row]==1):\n",
    "        rand=random.uniform(0, 1)\n",
    "        if(rand>remaining):\n",
    "            #remove this row from tdata\n",
    "            tdata = np.delete(tdata, (rand_row), axis=0)\n",
    "            tlabels = np.delete(tlabels, (rand_row), axis=0)\n",
    "            deleted+=1\n",
    "'''\n",
    "\n",
    "fig=plt.figure(figsize=(8,6))\n",
    "fig.set_figwidth(15)\n",
    "\n",
    "plt.subplot(1,2,1)\n",
    "plt.hist(tlabels[:,0])\n",
    "plt.title('Training data after split')\n",
    "\n",
    "plt.subplot(1,2,2)\n",
    "plt.hist(vlabels[:,0])\n",
    "plt.title('Validation data after split')\n",
    "\n"
   ]
  },
  {
   "cell_type": "code",
   "execution_count": 115,
   "metadata": {
    "scrolled": true
   },
   "outputs": [],
   "source": [
    "#Analysis of the input data: MATTI\n",
    "#TODO: Counteract imbalance in data set\n",
    "\n",
    "N=train_data.shape[0]\n",
    "C = np.dot(train_data.transpose(), train_data)/float(N)\n",
    "values, vectors = np.linalg.eig(C)\n",
    "idx = (values.real).argsort()[::-1]   \n",
    "values_sorted = (values[idx]).real\n",
    "vectors_sorted = vectors[:,idx]\n",
    "\n",
    "#test principal component analysis of data\n",
    "pca=PCA(n_components = 264)\n",
    "pca.fit(train_data)\n",
    "traindata_PCA=pca.transform(train_data)\n",
    "testdata_PCA=pca.transform(test_data)\n",
    "\n",
    "tdata_PCA=pca.transform(tdata)\n",
    "vdata_PCA=pca.transform(vdata)\n",
    " "
   ]
  },
  {
   "cell_type": "code",
   "execution_count": 10,
   "metadata": {},
   "outputs": [
    {
     "data": {
      "image/png": "[encoded data removed]",
      "text/plain": [
       "<Figure size 1080x432 with 2 Axes>"
      ]
     },
     "metadata": {
      "needs_background": "light"
     },
     "output_type": "display_data"
    }
   ],
   "source": [
    "D=values_sorted.shape[0]\n",
    "compression_error=np.zeros((1,D))\n",
    "number_included=np.zeros((1,D))\n",
    "for i in range(D):\n",
    "    sum=0\n",
    "    for j in range(i+1,D):\n",
    "        sum+=values_sorted[j]\n",
    "    compression_error[0,i]=sum\n",
    "    number_included[0,i]=i+1\n",
    "  \n",
    "fig=plt.figure(figsize=(8,6))\n",
    "fig.set_figwidth(15)\n",
    "plt.subplot(1,2,1)\n",
    "plt.plot(values_sorted[:])\n",
    "plt.xlabel('number of eigenvalue')\n",
    "plt.semilogy()\n",
    "plt.ylabel('Re[eigenvalue]')\n",
    "plt.title(\"Eigenvalues of the covariance matrix\")\n",
    "\n",
    "plt.subplot(1,2,2)\n",
    "plt.plot(number_included[0,:],compression_error[0,:])\n",
    "plt.xlabel('Number of included eigenvalues')\n",
    "plt.semilogy()\n",
    "plt.ylabel('Compression error')\n",
    "plt.title(\"Compression error\")\n",
    "plt.show()"
   ]
  },
  {
   "cell_type": "markdown",
   "metadata": {},
   "source": [
    "## 3. Methods and experiments (MATTE)"
   ]
  },
  {
   "cell_type": "markdown",
   "metadata": {},
   "source": [
    "*- Explain your whole approach (you can include a block diagram showing the steps in your process).* \n",
    "\n",
    "*- What methods/algorithms, why were the methods chosen. *\n",
    "\n",
    "*- What evaluation methodology (cross CV, etc.).*\n",
    "\n"
   ]
  },
  {
   "cell_type": "code",
   "execution_count": 9,
   "metadata": {},
   "outputs": [
    {
     "name": "stderr",
     "output_type": "stream",
     "text": [
      "C:\\Users\\Mathias\\Anaconda3\\lib\\site-packages\\sklearn\\cross_validation.py:41: DeprecationWarning: This module was deprecated in version 0.18 in favor of the model_selection module into which all the refactored classes and functions are moved. Also note that the interface of the new CV iterators are different from that of this module. This module will be removed in 0.20.\n",
      "  \"This module will be removed in 0.20.\", DeprecationWarning)\n",
      "C:\\Users\\Mathias\\Anaconda3\\lib\\site-packages\\sklearn\\grid_search.py:42: DeprecationWarning: This module was deprecated in version 0.18 in favor of the model_selection module into which all the refactored classes and functions are moved. This module will be removed in 0.20.\n",
      "  DeprecationWarning)\n"
     ]
    },
    {
     "data": {
      "text/plain": [
       "[mean: 0.50172, std: 0.00487, params: {'max_depth': 2, 'n_estimators': 20},\n",
       " mean: 0.50034, std: 0.00245, params: {'max_depth': 2, 'n_estimators': 40},\n",
       " mean: 0.50057, std: 0.00340, params: {'max_depth': 2, 'n_estimators': 60},\n",
       " mean: 0.49966, std: 0.00284, params: {'max_depth': 2, 'n_estimators': 80},\n",
       " mean: 0.50034, std: 0.00437, params: {'max_depth': 2, 'n_estimators': 100},\n",
       " mean: 0.54206, std: 0.01111, params: {'max_depth': 5, 'n_estimators': 20},\n",
       " mean: 0.54641, std: 0.00837, params: {'max_depth': 5, 'n_estimators': 40},\n",
       " mean: 0.54756, std: 0.01001, params: {'max_depth': 5, 'n_estimators': 60},\n",
       " mean: 0.54825, std: 0.01137, params: {'max_depth': 5, 'n_estimators': 80},\n",
       " mean: 0.55031, std: 0.00760, params: {'max_depth': 5, 'n_estimators': 100},\n",
       " mean: 0.55191, std: 0.00986, params: {'max_depth': 7, 'n_estimators': 20},\n",
       " mean: 0.55604, std: 0.01299, params: {'max_depth': 7, 'n_estimators': 40},\n",
       " mean: 0.55879, std: 0.01270, params: {'max_depth': 7, 'n_estimators': 60},\n",
       " mean: 0.55558, std: 0.01244, params: {'max_depth': 7, 'n_estimators': 80},\n",
       " mean: 0.55581, std: 0.01362, params: {'max_depth': 7, 'n_estimators': 100},\n",
       " mean: 0.55352, std: 0.01155, params: {'max_depth': 9, 'n_estimators': 20},\n",
       " mean: 0.55787, std: 0.01103, params: {'max_depth': 9, 'n_estimators': 40},\n",
       " mean: 0.55741, std: 0.01213, params: {'max_depth': 9, 'n_estimators': 60},\n",
       " mean: 0.55741, std: 0.01118, params: {'max_depth': 9, 'n_estimators': 80},\n",
       " mean: 0.55994, std: 0.01159, params: {'max_depth': 9, 'n_estimators': 100},\n",
       " mean: 0.54710, std: 0.01316, params: {'max_depth': 11, 'n_estimators': 20},\n",
       " mean: 0.55719, std: 0.01282, params: {'max_depth': 11, 'n_estimators': 40},\n",
       " mean: 0.55604, std: 0.01249, params: {'max_depth': 11, 'n_estimators': 60},\n",
       " mean: 0.55719, std: 0.01194, params: {'max_depth': 11, 'n_estimators': 80},\n",
       " mean: 0.56452, std: 0.01455, params: {'max_depth': 11, 'n_estimators': 100},\n",
       " mean: 0.54939, std: 0.01309, params: {'max_depth': 13, 'n_estimators': 20},\n",
       " mean: 0.55237, std: 0.00970, params: {'max_depth': 13, 'n_estimators': 40},\n",
       " mean: 0.56085, std: 0.01109, params: {'max_depth': 13, 'n_estimators': 60},\n",
       " mean: 0.55581, std: 0.01022, params: {'max_depth': 13, 'n_estimators': 80},\n",
       " mean: 0.55833, std: 0.01063, params: {'max_depth': 13, 'n_estimators': 100},\n",
       " mean: 0.54435, std: 0.01470, params: {'max_depth': 15, 'n_estimators': 20},\n",
       " mean: 0.55535, std: 0.01127, params: {'max_depth': 15, 'n_estimators': 40},\n",
       " mean: 0.55489, std: 0.01198, params: {'max_depth': 15, 'n_estimators': 60},\n",
       " mean: 0.56131, std: 0.01457, params: {'max_depth': 15, 'n_estimators': 80},\n",
       " mean: 0.55764, std: 0.01020, params: {'max_depth': 15, 'n_estimators': 100}]"
      ]
     },
     "execution_count": 9,
     "metadata": {},
     "output_type": "execute_result"
    }
   ],
   "source": [
    "from sklearn.model_selection import cross_val_score\n",
    "from sklearn.metrics import classification_report, confusion_matrix\n",
    "\n",
    "param_grid = {\n",
    "                 'n_estimators': [20, 40, 60, 80, 100],\n",
    "                 'max_depth': [2, 5, 7, 9, 11, 13, 15]\n",
    "             }\n",
    "\n",
    "\n",
    "X_train, X_test, y_train, y_test = train_test_split(traindata_PCA, train_labels.ravel(), test_size=0.33, random_state=66)\n",
    "\n",
    "# random forest model creation\n",
    "rfc = RandomForestClassifier()\n",
    "rfc.fit(X_train,y_train)\n",
    "# predictions\n",
    "rfc_predict = rfc.predict(X_test)\n",
    "\n",
    "cross_val_score(rfc, traindata_PCA, train_labels.ravel(), cv=10)\n",
    "\n",
    "from sklearn.grid_search import GridSearchCV\n",
    "\n",
    "grid_clf = GridSearchCV(rfc, param_grid, cv=10)\n",
    "grid_clf.fit(traindata_PCA, train_labels.ravel())\n",
    "grid_clf.grid_scores_"
   ]
  },
  {
   "cell_type": "code",
   "execution_count": 116,
   "metadata": {},
   "outputs": [],
   "source": [
    "#normalize the data: support vector machines work better this way\n",
    "from sklearn.preprocessing import MinMaxScaler\n",
    "\n",
    "scaler = MinMaxScaler()\n",
    "tdata_PCA_scaled = scaler.fit_transform(tdata_PCA)\n",
    "vdata_PCA_scaled = scaler.fit_transform(vdata_PCA)\n",
    "#for j in range(tdata_PCA.shape[1]):\n",
    " #   tdata_PCA_scaled[:,j]=np.interp(tdata_PCA[:,j], (tdata_PCA[:,j].min(), tdata_PCA[:,j].max()), (-1, +1))\n",
    "  #  vdata_PCA_scaled[:,j]=np.interp(vdata_PCA[:,j], (vdata_PCA[:,j].min(), vdata_PCA[:,j].max()), (-1, +1))"
   ]
  },
  {
   "cell_type": "code",
   "execution_count": 121,
   "metadata": {},
   "outputs": [
    {
     "name": "stdout",
     "output_type": "stream",
     "text": [
      "(3025, 264)\n",
      "1 0.39088191330343797\n",
      "2 0.47234678624813153\n",
      "3 0.4977578475336323\n",
      "4 0.5\n",
      "5 0.5089686098654709\n",
      "6 0.5149476831091181\n",
      "10 0.523168908819133\n",
      "20 0.5179372197309418\n"
     ]
    }
   ],
   "source": [
    "#Matti's cross validation test\n",
    "from sklearn.neighbors import KNeighborsClassifier\n",
    "print(tdata_PCA_scaled.shape)\n",
    "\n",
    "nbrs=[1,2,3,4,5,6,10,20]\n",
    "for j in range(len(nbrs)):\n",
    "    k=nbrs[j]\n",
    "    clf = KNeighborsClassifier(n_neighbors=k)\n",
    "    clf.fit(tdata_PCA_scaled, tlabels.ravel())\n",
    "    score = clf.score(vdata_PCA_scaled, vlabels.ravel())\n",
    "    print(k,score)"
   ]
  },
  {
   "cell_type": "code",
   "execution_count": 25,
   "metadata": {},
   "outputs": [
    {
     "name": "stdout",
     "output_type": "stream",
     "text": [
      "[0.76394858 0.46843531 0.12161903 0.06402273 0.04634457 0.03145128\n",
      " 0.02801016 0.02025193 0.01936487 0.01664958]\n",
      "[ 3.58857806e-05  3.46824472e-05  3.30976375e-05  3.19090511e-05\n",
      "  3.01583150e-05  2.69840906e-05  2.29438184e-05  1.46351876e-05\n",
      "  1.10981295e-05  6.23466415e-06  2.81908471e-06  1.32990008e-20\n",
      " -1.21484117e-20 -1.21484117e-20]\n",
      "Random Forest score:  0.5273894109557644\n"
     ]
    }
   ],
   "source": [
    "#Choosing how much of the PCA data to include.\n",
    "#We see that there is a significant drop in the computation error and eigenvalues somewhere near the 175th eigenvalue\n",
    "\n",
    "print(values_sorted[170:180])\n",
    "#From this we see that a reasonable cutoff point is at the 175th eigenvalue\n",
    "\n",
    "print(values_sorted[250:])\n",
    "\n",
    "# Trials with ML algorithms\n",
    "\n",
    "\n",
    "\n",
    "#TODO\n",
    "#Polynomial regression\n",
    "\n",
    "#Mattes algoritmer\n",
    "#Try 1, LinearRegression\n",
    "#classifier_1 = linear_model.LinearRegression().fit(traindata_PCA, train_labels)\n",
    "#score1 = classifier_1.score(traindata_PCA, train_labels)\n",
    "#classifier_1.predict(testdata_PCA)\n",
    "\n",
    "#Try 2, SVM\n",
    "#classifier_2 = SVC(gamma='auto')\n",
    "#classifier_2.fit(train_data, train_labels.values.ravel())\n",
    "#classifier_2.score(train_data, train_labels.values.ravel())\n",
    "\n",
    "#Try 3, Deep learning\n",
    "#classifier_3 = MLPClassifier(solver='lbfgs', alpha=1e-2, hidden_layer_sizes=(5, 2), random_state=1)\n",
    "#classifier_3.fit(traindata_PCA, train_labels)\n",
    "#score3 = classifier_3.score(traindata_PCA, train_labels)\n",
    "\n",
    "#Try 4, Bayesian Ridge regression\n",
    "#classifier_4 = linear_model.BayesianRidge().fit(traindata_PCA, train_labels)\n",
    "#score4 = classifier_4.score(traindata_PCA, train_labels)\n",
    "\n",
    "#Try 5, Random Forest\n",
    "classifier_5 = RandomForestClassifier(n_estimators=100, max_depth = 10)\n",
    "classifier_5.fit(traindata_PCA, train_labels.ravel())\n",
    "score5 = classifier_5.score(traindata_PCA, train_labels.ravel())\n",
    "classifier_5_output = classifier_5.predict(testdata_PCA)\n",
    "classifier_5_output_logloss = classifier_5.predict_proba(testdata_PCA)\n",
    "\n",
    "\n",
    "#Output\n",
    "#print(\"Linear regression score: \", score1)\n",
    "#print(\"Deep learning score: \", score3)\n",
    "#print(\"Bayesian Ridge Regression score: \", score4)\n",
    "print(\"Random Forest score: \", score5)\n"
   ]
  },
  {
   "cell_type": "code",
   "execution_count": null,
   "metadata": {},
   "outputs": [],
   "source": [
    "#Mattis algoritmer\n",
    "#Try the same as above, but for the reduced data\n",
    "\n",
    "classifier_5_reduced = RandomForestClassifier(n_estimators=10, max_depth = 10).fit(traindata_PCA, train_labels.values.ravel())\n",
    "score5_reduced = classifier_5_reduced.score(traindata_PCA, train_labels.values.ravel())\n",
    "classifier_5_reduced_output = classifier_5_reduced.predict(testdata_PCA)\n",
    "\n",
    "\n",
    "#Output\n",
    "print(\"Random Forest score with PCA compression, boom: \", score5_reduced)\n",
    "\n"
   ]
  },
  {
   "cell_type": "markdown",
   "metadata": {},
   "source": [
    "## 4. Results (Output: Smeds, Confusion matrix: Fontell)"
   ]
  },
  {
   "cell_type": "markdown",
   "metadata": {},
   "source": [
    "*Summarize the results of the experiments without discussing their implications.*\n",
    "\n",
    "*- Include both performance measures (accuracy and LogLoss).*\n",
    "\n",
    "*- How does it perform on kaggle compared to the train data.*\n",
    "\n",
    "*- Include a confusion matrix.*\n",
    "\n"
   ]
  },
  {
   "cell_type": "code",
   "execution_count": null,
   "metadata": {},
   "outputs": [],
   "source": [
    "#Confusion matrix ...\n",
    "\n",
    "#Output for Accuracy competition\n",
    "output_csv = pd.DataFrame({'Sample_label': classifier_5_output})\n",
    "output_csv.index += 1\n",
    "output_csv.index.names = ['Sample_id']\n",
    "\n",
    "#Output for Logloss competition\n",
    "output_csv2 = pd.DataFrame(classifier_5_output_logloss, columns=['Class_1', 'Class_2', 'Class_3', 'Class_4', 'Class_5','Class_6','Class_7','Class_8','Class_9','Class_10',])\n",
    "output_csv2.index += 1\n",
    "output_csv2.index.names = ['Sample_id']\n",
    "\n",
    "#output_csv.rename({1: \"Sample_id\", 2: \"Sample_label\"}, index=)\n",
    "output_csv.to_csv('upload_to_kaggle_accuracy.csv')\n",
    "output_csv2.to_csv('upload_to_kaggle_logloss.csv')\n"
   ]
  },
  {
   "cell_type": "markdown",
   "metadata": {},
   "source": [
    "## 5. Discussion/Conclusions"
   ]
  },
  {
   "cell_type": "markdown",
   "metadata": {},
   "source": [
    "*Interpret and explain your results *\n",
    "\n",
    "*- Discuss the relevance of the performance measures (accuracy and LogLoss) for\n",
    "imbalanced multiclass datasets. *\n",
    "\n",
    "*- How the results relate to the literature. *\n",
    "\n",
    "*- Suggestions for future research/improvement. *\n",
    "\n",
    "*- Did the study answer your questions? *\n",
    "\n"
   ]
  },
  {
   "cell_type": "markdown",
   "metadata": {},
   "source": [
    "## 6. References"
   ]
  },
  {
   "cell_type": "markdown",
   "metadata": {},
   "source": [
    "*List of all the references cited in the document*"
   ]
  },
  {
   "cell_type": "markdown",
   "metadata": {},
   "source": [
    "## Appendix\n",
    "*Any additional material needed to complete the report can be included here. For example, if you want to keep  additional source code, additional images or plots, mathematical derivations, etc. The content should be relevant to the report and should help explain or visualize something mentioned earlier. **You can remove the whole Appendix section if there is no need for it.** *"
   ]
  },
  {
   "cell_type": "code",
   "execution_count": null,
   "metadata": {},
   "outputs": [],
   "source": []
  }
 ],
 "metadata": {
  "kernelspec": {
   "display_name": "Python 3",
   "language": "python",
   "name": "python3"
  },
  "language_info": {
   "codemirror_mode": {
    "name": "ipython",
    "version": 3
   },
   "file_extension": ".py",
   "mimetype": "text/x-python",
   "name": "python",
   "nbconvert_exporter": "python",
   "pygments_lexer": "ipython3",
   "version": "3.7.0"
  }
 },
 "nbformat": 4,
 "nbformat_minor": 2
}
